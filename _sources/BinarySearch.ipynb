{
 "cells": [
  {
   "cell_type": "markdown",
   "metadata": {},
   "source": [
    "# Binary Search"
   ]
  },
  {
   "cell_type": "markdown",
   "metadata": {},
   "source": [
    "**Purpose:** In this article we will explore binary search in ocaml"
   ]
  },
  {
   "cell_type": "code",
   "execution_count": 26,
   "metadata": {
    "tags": [
     "remove-output"
    ],
    "vscode": {
     "languageId": "ocaml"
    }
   },
   "outputs": [],
   "source": [
    "#require \"jupyter.notebook\" ;;\n",
    "(* #require \"jupyter-archimedes\" *)\n"
   ]
  },
  {
   "cell_type": "markdown",
   "metadata": {},
   "source": [
    "## Problem Setup\n",
    "\n",
    "For this problem we will be fed a direction, but we won't know the exact coordinate.  Here we create the functions that given a current location and a target location gives us the direction (ie DR, or D)"
   ]
  },
  {
   "cell_type": "code",
   "execution_count": 27,
   "metadata": {},
   "outputs": [
    {
     "data": {
      "text/plain": [
       "exception Damn of string\n"
      ]
     },
     "execution_count": 27,
     "metadata": {},
     "output_type": "execute_result"
    },
    {
     "data": {
      "text/plain": [
       "val get_width_dir : 'a -> 'a -> string = <fun>\n"
      ]
     },
     "execution_count": 27,
     "metadata": {},
     "output_type": "execute_result"
    },
    {
     "data": {
      "text/plain": [
       "val get_height_dir : 'a -> 'a -> string = <fun>\n"
      ]
     },
     "execution_count": 27,
     "metadata": {},
     "output_type": "execute_result"
    },
    {
     "data": {
      "text/plain": [
       "val get_direction : ('a * 'b) * ('c * 'd * 'e * 'f) -> 'a * 'b -> string =\n",
       "  <fun>\n"
      ]
     },
     "execution_count": 27,
     "metadata": {},
     "output_type": "execute_result"
    }
   ],
   "source": [
    "exception Damn of string\n",
    "\n",
    "let get_width_dir bw cw = \n",
    "  match compare cw bw  with\n",
    "    |0 -> \"\"|1 -> \"L\"|(-1) -> \"R\"| _ -> raise (Damn \"error\")\n",
    "\n",
    "let get_height_dir bh ch = \n",
    "  match compare ch bh with\n",
    "    |0 -> \"\" |1 -> \"U\" |(-1) -> \"D\"| _ -> raise (Damn \"error\")\n",
    "\n",
    "let get_direction currentloc bombloc = \n",
    "  let bw,bh = bombloc in\n",
    "  let ((cw,ch),(_,_,_,_)) = currentloc in\n",
    "\n",
    "  (get_height_dir bh ch) ^ (get_width_dir bw cw)"
   ]
  },
  {
   "cell_type": "markdown",
   "metadata": {},
   "source": [
    "## Step Function\n",
    "\n",
    "Next we need to write out step function.  Every step is to the center of the available board, and we shrink the available board with each step as we are given the location."
   ]
  },
  {
   "cell_type": "code",
   "execution_count": 28,
   "metadata": {},
   "outputs": [
    {
     "data": {
      "text/plain": [
       "val take_step :\n",
       "  (int * int) * (int * int * int * int) ->\n",
       "  string -> (int * int) * (int * int * int * int) = <fun>\n"
      ]
     },
     "execution_count": 28,
     "metadata": {},
     "output_type": "execute_result"
    }
   ],
   "source": [
    "let take_step currentloc dir =\n",
    "  let ((cw,ch),(w0,w1,h0,h1)) = currentloc in\n",
    "  match dir with \n",
    "        |\"L\" -> (((w0+cw)/2,ch),(w0,cw,ch,ch))\n",
    "        |\"R\" -> (((cw+w1)/2,ch),(cw,w1,ch,ch))\n",
    "        |\"U\" -> ((cw,(h0+ch)/2),(cw,cw,h0,ch))\n",
    "        |\"D\" -> ((cw,(ch+h1)/2),(cw,cw,ch,h1))\n",
    "        |\"UL\" -> (((w0+cw)/2,(h0+ch)/2),(w0,cw,h0,ch))\n",
    "        |\"UR\" -> (((cw+w1)/2,(w0+ch)/2),(cw,w1,h0,ch))\n",
    "        |\"DL\" -> (((w0+cw)/2,(ch+h1)/2),(w0,cw,ch,h1))\n",
    "        |\"DR\" -> (((cw+w1)/2,(ch+h1)/2),(cw,w1,ch,h1))\n",
    "        |_ -> raise (Damn \"error\")"
   ]
  },
  {
   "cell_type": "markdown",
   "metadata": {},
   "source": [
    "## The Test Loop\n",
    "\n",
    "We will create a test loop that will iterate through until it finds a solution, with some printing so we can see what it's doing."
   ]
  },
  {
   "cell_type": "code",
   "execution_count": 29,
   "metadata": {},
   "outputs": [
    {
     "data": {
      "text/plain": [
       "val print_step :\n",
       "  int * int -> (int * int) * (int * int * int * int) -> string -> unit =\n",
       "  <fun>\n"
      ]
     },
     "execution_count": 29,
     "metadata": {},
     "output_type": "execute_result"
    }
   ],
   "source": [
    "let print_step bl cl bd =\n",
    "    let ((ow,oh),(bw1,bw2,bh1,bh2)) = cl in\n",
    "    let bw, bh = bl in\n",
    "    print_endline (\"Board: \" ^ string_of_int bw1 ^ \"x\"^ string_of_int bw2 ^ \"x\"^ string_of_int bh1 ^ \"x\"^ string_of_int bh2 ^ \"  |  \" ^\n",
    "              \"Bomb: \" ^ string_of_int bw ^ \"x\" ^ string_of_int bh ^ \"  |  \" ^ \n",
    "              \"Loc: \" ^ string_of_int ow ^ \"x\" ^ string_of_int oh ^ \"  |  \" ^ \n",
    "              \"Direction: \" ^ bd);"
   ]
  },
  {
   "cell_type": "code",
   "execution_count": 30,
   "metadata": {
    "vscode": {
     "languageId": "ocaml"
    }
   },
   "outputs": [
    {
     "data": {
      "text/plain": [
       "val loop :\n",
       "  (int * int) * (int * int * int * int) ->\n",
       "  int ->\n",
       "  (int * int -> (int * int) * (int * int * int * int) -> string -> 'a) ->\n",
       "  int * int -> string = <fun>\n"
      ]
     },
     "execution_count": 30,
     "metadata": {},
     "output_type": "execute_result"
    }
   ],
   "source": [
    "let rec loop loc acc printf bl=\n",
    "    let bombdir = get_direction loc bl in\n",
    "    printf bl loc bombdir;\n",
    "\n",
    "    let out = take_step loc bombdir in\n",
    "    let ((ow,oh),(bw1,bw2,bh1,bh2)) = out in\n",
    "\n",
    "\n",
    "    if (ow,oh)=(bl) then \"success\" \n",
    "    else if acc > 200 then \"200 iters\"\n",
    "    else loop out (acc+1) printf bl"
   ]
  },
  {
   "cell_type": "markdown",
   "metadata": {},
   "source": [
    "## The Expirament\n",
    "\n",
    "We can see that even when run with a pretty large random size and locations setup, we solve the problem in relatively few steps."
   ]
  },
  {
   "cell_type": "code",
   "execution_count": 33,
   "metadata": {},
   "outputs": [
    {
     "data": {
      "text/plain": [
       "val sz : int = 1000000\n"
      ]
     },
     "execution_count": 33,
     "metadata": {},
     "output_type": "execute_result"
    },
    {
     "data": {
      "text/plain": [
       "val w : int = 443358\n",
       "val h : int = 838988\n"
      ]
     },
     "execution_count": 33,
     "metadata": {},
     "output_type": "execute_result"
    },
    {
     "data": {
      "text/plain": [
       "val current_loc : int * int = (280535, 87436)\n"
      ]
     },
     "execution_count": 33,
     "metadata": {},
     "output_type": "execute_result"
    },
    {
     "data": {
      "text/plain": [
       "val bomb_loc : int * int = (363867, 38701)\n"
      ]
     },
     "execution_count": 33,
     "metadata": {},
     "output_type": "execute_result"
    },
    {
     "data": {
      "text/plain": [
       "val board : int * int * int * int = (0, 443358, 0, 838988)\n"
      ]
     },
     "execution_count": 33,
     "metadata": {},
     "output_type": "execute_result"
    },
    {
     "data": {
      "text/plain": [
       "val current_loc : (int * int) * (int * int * int * int) =\n",
       "  ((280535, 87436), (0, 443358, 0, 838988))\n"
      ]
     },
     "execution_count": 33,
     "metadata": {},
     "output_type": "execute_result"
    }
   ],
   "source": [
    "let sz = 1_000_000\n",
    "let w,h = (Random.int sz,Random.int sz)\n",
    "let current_loc = (Random.int w,Random.int h)\n",
    "let bomb_loc = (Random.int w,Random.int h)\n",
    "let board = (0,w,0,h)\n",
    "let current_loc = (current_loc,board)"
   ]
  },
  {
   "cell_type": "code",
   "execution_count": 34,
   "metadata": {},
   "outputs": [
    {
     "name": "stdout",
     "output_type": "stream",
     "text": [
      "Board: 0x443358x0x838988  |  Bomb: 363867x38701  |  Loc: 280535x87436  |  Direction: UR\n",
      "Board: 280535x443358x0x87436  |  Bomb: 363867x38701  |  Loc: 361946x43718  |  Direction: UR\n",
      "Board: 361946x443358x0x43718  |  Bomb: 363867x38701  |  Loc: 402652x162126  |  Direction: UL\n",
      "Board: 361946x402652x0x162126  |  Bomb: 363867x38701  |  Loc: 382299x81063  |  Direction: UL\n",
      "Board: 361946x382299x0x81063  |  Bomb: 363867x38701  |  Loc: 372122x40531  |  Direction: UL\n",
      "Board: 361946x372122x0x40531  |  Bomb: 363867x38701  |  Loc: 367034x20265  |  Direction: DL\n",
      "Board: 361946x367034x20265x40531  |  Bomb: 363867x38701  |  Loc: 364490x30398  |  Direction: DL\n",
      "Board: 361946x364490x30398x40531  |  Bomb: 363867x38701  |  Loc: 363218x35464  |  Direction: DR\n",
      "Board: 363218x364490x35464x40531  |  Bomb: 363867x38701  |  Loc: 363854x37997  |  Direction: DR\n",
      "Board: 363854x364490x37997x40531  |  Bomb: 363867x38701  |  Loc: 364172x39264  |  Direction: UL\n",
      "Board: 363854x364172x37997x39264  |  Bomb: 363867x38701  |  Loc: 364013x38630  |  Direction: DL\n",
      "Board: 363854x364013x38630x39264  |  Bomb: 363867x38701  |  Loc: 363933x38947  |  Direction: UL\n",
      "Board: 363854x363933x38630x38947  |  Bomb: 363867x38701  |  Loc: 363893x38788  |  Direction: UL\n",
      "Board: 363854x363893x38630x38788  |  Bomb: 363867x38701  |  Loc: 363873x38709  |  Direction: UL\n",
      "Board: 363854x363873x38630x38709  |  Bomb: 363867x38701  |  Loc: 363863x38669  |  Direction: DR\n",
      "Board: 363863x363873x38669x38709  |  Bomb: 363867x38701  |  Loc: 363868x38689  |  Direction: DL\n",
      "Board: 363863x363868x38689x38709  |  Bomb: 363867x38701  |  Loc: 363865x38699  |  Direction: DR\n",
      "Board: 363865x363868x38699x38709  |  Bomb: 363867x38701  |  Loc: 363866x38704  |  Direction: UR\n",
      "Board: 363866x363868x38699x38704  |  Bomb: 363867x38701  |  Loc: 363867x201284  |  Direction: U\n",
      "Board: 363867x363867x38699x201284  |  Bomb: 363867x38701  |  Loc: 363867x119991  |  Direction: U\n",
      "Board: 363867x363867x38699x119991  |  Bomb: 363867x38701  |  Loc: 363867x79345  |  Direction: U\n",
      "Board: 363867x363867x38699x79345  |  Bomb: 363867x38701  |  Loc: 363867x59022  |  Direction: U\n",
      "Board: 363867x363867x38699x59022  |  Bomb: 363867x38701  |  Loc: 363867x48860  |  Direction: U\n",
      "Board: 363867x363867x38699x48860  |  Bomb: 363867x38701  |  Loc: 363867x43779  |  Direction: U\n",
      "Board: 363867x363867x38699x43779  |  Bomb: 363867x38701  |  Loc: 363867x41239  |  Direction: U\n",
      "Board: 363867x363867x38699x41239  |  Bomb: 363867x38701  |  Loc: 363867x39969  |  Direction: U\n",
      "Board: 363867x363867x38699x39969  |  Bomb: 363867x38701  |  Loc: 363867x39334  |  Direction: U\n",
      "Board: 363867x363867x38699x39334  |  Bomb: 363867x38701  |  Loc: 363867x39016  |  Direction: U\n",
      "Board: 363867x363867x38699x39016  |  Bomb: 363867x38701  |  Loc: 363867x38857  |  Direction: U\n",
      "Board: 363867x363867x38699x38857  |  Bomb: 363867x38701  |  Loc: 363867x38778  |  Direction: U\n",
      "Board: 363867x363867x38699x38778  |  Bomb: 363867x38701  |  Loc: 363867x38738  |  Direction: U\n",
      "Board: 363867x363867x38699x38738  |  Bomb: 363867x38701  |  Loc: 363867x38718  |  Direction: U\n",
      "Board: 363867x363867x38699x38718  |  Bomb: 363867x38701  |  Loc: 363867x38708  |  Direction: U\n",
      "Board: 363867x363867x38699x38708  |  Bomb: 363867x38701  |  Loc: 363867x38703  |  Direction: U\n"
     ]
    },
    {
     "data": {
      "text/plain": [
       "- : string = \"success\"\n"
      ]
     },
     "execution_count": 34,
     "metadata": {},
     "output_type": "execute_result"
    }
   ],
   "source": [
    "loop current_loc 0 print_step bomb_loc"
   ]
  },
  {
   "cell_type": "code",
   "execution_count": null,
   "metadata": {
    "vscode": {
     "languageId": "ocaml"
    }
   },
   "outputs": [],
   "source": []
  },
  {
   "cell_type": "code",
   "execution_count": null,
   "metadata": {},
   "outputs": [],
   "source": []
  }
 ],
 "metadata": {
  "celltoolbar": "Tags",
  "interpreter": {
   "hash": "2919f7ed6131f896cd9e7617f357d6c5d730d5509204ac2818bea7544a03cf81"
  },
  "kernelspec": {
   "display_name": "OCaml 4.13.1",
   "language": "OCaml",
   "name": "ocaml-jupyter-4.13.1"
  },
  "language_info": {
   "codemirror_mode": "text/x-ocaml",
   "file_extension": ".ml",
   "mimetype": "text/x-ocaml",
   "name": "OCaml",
   "nbconverter_exporter": null,
   "pygments_lexer": "OCaml",
   "version": "4.13.1"
  }
 },
 "nbformat": 4,
 "nbformat_minor": 2
}
