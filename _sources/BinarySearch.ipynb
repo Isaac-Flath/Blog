{
 "cells": [
  {
   "cell_type": "markdown",
   "metadata": {},
   "source": [
    "# Binary Search"
   ]
  },
  {
   "cell_type": "markdown",
   "metadata": {},
   "source": [
    "**Purpose:** In this article we will explore binary search in ocaml"
   ]
  },
  {
   "cell_type": "code",
   "execution_count": 10,
   "metadata": {
    "tags": [
     "remove-output"
    ],
    "vscode": {
     "languageId": "ocaml"
    }
   },
   "outputs": [
    {
     "name": "stderr",
     "output_type": "stream",
     "text": [
      "/Users/isaacflath/.opam/4.13.1/lib/bytes: added to search path\n",
      "/Users/isaacflath/.opam/4.13.1/lib/base64: added to search path\n",
      "/Users/isaacflath/.opam/4.13.1/lib/base64/base64.cma: loaded\n",
      "/Users/isaacflath/.opam/4.13.1/lib/easy-format: added to search path\n",
      "/Users/isaacflath/.opam/4.13.1/lib/easy-format/easy_format.cma: loaded\n",
      "/Users/isaacflath/.opam/4.13.1/lib/biniou: added to search path\n",
      "/Users/isaacflath/.opam/4.13.1/lib/biniou/biniou.cma: loaded\n",
      "/Users/isaacflath/.opam/4.13.1/lib/yojson: added to search path\n",
      "/Users/isaacflath/.opam/4.13.1/lib/yojson/yojson.cma: loaded\n",
      "/Users/isaacflath/.opam/4.13.1/lib/ppx_yojson_conv_lib: added to search path\n",
      "/Users/isaacflath/.opam/4.13.1/lib/ppx_yojson_conv_lib/ppx_yojson_conv_lib.cma: loaded\n",
      "/Users/isaacflath/.opam/4.13.1/lib/uuidm: added to search path\n",
      "/Users/isaacflath/.opam/4.13.1/lib/uuidm/uuidm.cma: loaded\n",
      "/Users/isaacflath/.opam/4.13.1/lib/jupyter: added to search path\n",
      "/Users/isaacflath/.opam/4.13.1/lib/jupyter/jupyter.cma: loaded\n",
      "/Users/isaacflath/.opam/4.13.1/lib/result: added to search path\n",
      "/Users/isaacflath/.opam/4.13.1/lib/result/result.cma: loaded\n",
      "/Users/isaacflath/.opam/4.13.1/lib/ppx_deriving/runtime: added to search path\n",
      "/Users/isaacflath/.opam/4.13.1/lib/ppx_deriving/runtime/ppx_deriving_runtime.cma: loaded\n",
      "/Users/isaacflath/.opam/4.13.1/lib/jupyter/notebook: added to search path\n",
      "/Users/isaacflath/.opam/4.13.1/lib/jupyter/notebook/jupyter_notebook.cma: loaded\n"
     ]
    }
   ],
   "source": [
    "#require \"jupyter.notebook\" ;;\n",
    "(* #require \"jupyter-archimedes\" *)\n"
   ]
  },
  {
   "cell_type": "markdown",
   "metadata": {},
   "source": [
    "# Problem Setup\n",
    "\n",
    "For this problem we will be fed a direction, but we won't know the exact coordinate.  Here we create the functions that given a current location and a target location gives us the direction (ie DR, or D)"
   ]
  },
  {
   "cell_type": "code",
   "execution_count": 24,
   "metadata": {},
   "outputs": [
    {
     "data": {
      "text/plain": [
       "exception Damn of string\n"
      ]
     },
     "execution_count": 24,
     "metadata": {},
     "output_type": "execute_result"
    },
    {
     "data": {
      "text/plain": [
       "val get_width_dir : 'a -> 'a -> string = <fun>\n"
      ]
     },
     "execution_count": 24,
     "metadata": {},
     "output_type": "execute_result"
    },
    {
     "data": {
      "text/plain": [
       "val get_height_dir : 'a -> 'a -> string = <fun>\n"
      ]
     },
     "execution_count": 24,
     "metadata": {},
     "output_type": "execute_result"
    },
    {
     "data": {
      "text/plain": [
       "val get_direction : ('a * 'b) * ('c * 'd * 'e * 'f) -> 'a * 'b -> string =\n",
       "  <fun>\n"
      ]
     },
     "execution_count": 24,
     "metadata": {},
     "output_type": "execute_result"
    }
   ],
   "source": [
    "exception Damn of string\n",
    "\n",
    "let get_width_dir bw cw = \n",
    "  match compare cw bw  with\n",
    "    |0 -> \"\"|1 -> \"L\"|(-1) -> \"R\"| _ -> raise (Damn \"error\")\n",
    "\n",
    "let get_height_dir bh ch = \n",
    "  match compare ch bh with\n",
    "    |0 -> \"\" |1 -> \"U\" |(-1) -> \"D\"| _ -> raise (Damn \"error\")\n",
    "\n",
    "let get_direction currentloc bombloc = \n",
    "  let bw,bh = bombloc in\n",
    "  let ((cw,ch),(_,_,_,_)) = currentloc in\n",
    "\n",
    "  (get_height_dir bh ch) ^ (get_width_dir bw cw)"
   ]
  },
  {
   "cell_type": "markdown",
   "metadata": {},
   "source": [
    "# Step Function\n",
    "\n",
    "Next we need to write out step function.  Every step is to the center of the available board, and we shrink the available board with each step as we are given the location."
   ]
  },
  {
   "cell_type": "code",
   "execution_count": 12,
   "metadata": {},
   "outputs": [
    {
     "data": {
      "text/plain": [
       "val take_step :\n",
       "  (int * int) * (int * int * int * int) ->\n",
       "  string -> (int * int) * (int * int * int * int) = <fun>\n"
      ]
     },
     "execution_count": 12,
     "metadata": {},
     "output_type": "execute_result"
    }
   ],
   "source": [
    "let take_step currentloc dir =\n",
    "  let ((cw,ch),(w0,w1,h0,h1)) = currentloc in\n",
    "  match dir with \n",
    "        |\"L\" -> (((w0+cw)/2,ch),(w0,cw,ch,ch))\n",
    "        |\"R\" -> (((cw+w1)/2,ch),(cw,w1,ch,ch))\n",
    "        |\"U\" -> ((cw,(h0+ch)/2),(cw,cw,h0,ch))\n",
    "        |\"D\" -> ((cw,(ch+h1)/2),(cw,cw,ch,h1))\n",
    "        |\"UL\" -> (((w0+cw)/2,(h0+ch)/2),(w0,cw,h0,ch))\n",
    "        |\"UR\" -> (((cw+w1)/2,(w0+ch)/2),(cw,w1,h0,ch))\n",
    "        |\"DL\" -> (((w0+cw)/2,(ch+h1)/2),(w0,cw,ch,h1))\n",
    "        |\"DR\" -> (((cw+w1)/2,(ch+h1)/2),(cw,w1,ch,h1))\n",
    "        |_ -> raise (Damn \"error\")"
   ]
  },
  {
   "cell_type": "markdown",
   "metadata": {},
   "source": [
    "# The Test Loop\n",
    "\n",
    "We will create a test loop that will iterate through until it finds a solution, with some printing so we can see what it's doing."
   ]
  },
  {
   "cell_type": "code",
   "execution_count": 13,
   "metadata": {},
   "outputs": [
    {
     "data": {
      "text/plain": [
       "val print_step :\n",
       "  int * int -> (int * int) * (int * int * int * int) -> string -> unit =\n",
       "  <fun>\n"
      ]
     },
     "execution_count": 13,
     "metadata": {},
     "output_type": "execute_result"
    }
   ],
   "source": [
    "let print_step bl cl bd =\n",
    "    let ((ow,oh),(bw1,bw2,bh1,bh2)) = cl in\n",
    "    let bw, bh = bl in\n",
    "    print_endline (\"Board: \" ^ string_of_int bw1 ^ \"x\"^ string_of_int bw2 ^ \"x\"^ string_of_int bh1 ^ \"x\"^ string_of_int bh2 ^ \"  |  \" ^\n",
    "              \"Bomb: \" ^ string_of_int bw ^ \"x\" ^ string_of_int bh ^ \"  |  \" ^ \n",
    "              \"Loc: \" ^ string_of_int ow ^ \"x\" ^ string_of_int oh ^ \"  |  \" ^ \n",
    "              \"Direction: \" ^ bd);"
   ]
  },
  {
   "cell_type": "code",
   "execution_count": 14,
   "metadata": {
    "vscode": {
     "languageId": "ocaml"
    }
   },
   "outputs": [
    {
     "data": {
      "text/plain": [
       "val loop :\n",
       "  (int * int) * (int * int * int * int) ->\n",
       "  int ->\n",
       "  (int * int -> (int * int) * (int * int * int * int) -> string -> 'a) ->\n",
       "  int * int -> string = <fun>\n"
      ]
     },
     "execution_count": 14,
     "metadata": {},
     "output_type": "execute_result"
    }
   ],
   "source": [
    "let rec loop loc acc printf bl=\n",
    "    let bombdir = get_direction loc bl in\n",
    "    printf bl loc bombdir;\n",
    "\n",
    "    let out = take_step loc bombdir in\n",
    "    let ((ow,oh),(bw1,bw2,bh1,bh2)) = out in\n",
    "\n",
    "\n",
    "    if (ow,oh)=(bl) then \"success\" \n",
    "    else if acc > 200 then \"200 iters\"\n",
    "    else loop out (acc+1) printf bl"
   ]
  },
  {
   "cell_type": "markdown",
   "metadata": {},
   "source": [
    "# The Expirament\n",
    "\n",
    "We can see that even when run with a pretty large random size and locations setup, we solve the problem in relatively few steps."
   ]
  },
  {
   "cell_type": "code",
   "execution_count": 25,
   "metadata": {},
   "outputs": [
    {
     "data": {
      "text/plain": [
       "val sz : int = 1000000000\n"
      ]
     },
     "execution_count": 25,
     "metadata": {},
     "output_type": "execute_result"
    },
    {
     "data": {
      "text/plain": [
       "val w : int = 735866460\n",
       "val h : int = 433353897\n"
      ]
     },
     "execution_count": 25,
     "metadata": {},
     "output_type": "execute_result"
    },
    {
     "data": {
      "text/plain": [
       "val current_loc : int * int = (501997763, 64262183)\n"
      ]
     },
     "execution_count": 25,
     "metadata": {},
     "output_type": "execute_result"
    },
    {
     "data": {
      "text/plain": [
       "val bomb_loc : int * int = (352563599, 390644720)\n"
      ]
     },
     "execution_count": 25,
     "metadata": {},
     "output_type": "execute_result"
    },
    {
     "data": {
      "text/plain": [
       "val board : int * int * int * int = (0, 735866460, 0, 433353897)\n"
      ]
     },
     "execution_count": 25,
     "metadata": {},
     "output_type": "execute_result"
    },
    {
     "data": {
      "text/plain": [
       "val current_loc : (int * int) * (int * int * int * int) =\n",
       "  ((501997763, 64262183), (0, 735866460, 0, 433353897))\n"
      ]
     },
     "execution_count": 25,
     "metadata": {},
     "output_type": "execute_result"
    }
   ],
   "source": [
    "let sz = 1_000_000_000\n",
    "let w,h = (Random.int sz,Random.int sz)\n",
    "let current_loc = (Random.int w,Random.int h)\n",
    "let bomb_loc = (Random.int w,Random.int h)\n",
    "let board = (0,w,0,h)\n",
    "let current_loc = (current_loc,board)"
   ]
  },
  {
   "cell_type": "code",
   "execution_count": 23,
   "metadata": {},
   "outputs": [
    {
     "name": "stdout",
     "output_type": "stream",
     "text": [
      "Board: 0x179793212x0x425739649  |  Bomb: 95278349x183780708  |  Loc: 59186575x204244755  |  Direction: UR\n",
      "Board: 59186575x179793212x0x204244755  |  Bomb: 95278349x183780708  |  Loc: 119489893x102122377  |  Direction: DL\n",
      "Board: 59186575x119489893x102122377x204244755  |  Bomb: 95278349x183780708  |  Loc: 89338234x153183566  |  Direction: DR\n",
      "Board: 89338234x119489893x153183566x204244755  |  Bomb: 95278349x183780708  |  Loc: 104414063x178714160  |  Direction: DL\n",
      "Board: 89338234x104414063x178714160x204244755  |  Bomb: 95278349x183780708  |  Loc: 96876148x191479457  |  Direction: UL\n",
      "Board: 89338234x96876148x178714160x191479457  |  Bomb: 95278349x183780708  |  Loc: 93107191x185096808  |  Direction: UR\n",
      "Board: 93107191x96876148x178714160x185096808  |  Bomb: 95278349x183780708  |  Loc: 94991669x137217521  |  Direction: DR\n",
      "Board: 94991669x96876148x137217521x185096808  |  Bomb: 95278349x183780708  |  Loc: 95933908x161157164  |  Direction: DL\n",
      "Board: 94991669x95933908x161157164x185096808  |  Bomb: 95278349x183780708  |  Loc: 95462788x173126986  |  Direction: DL\n",
      "Board: 94991669x95462788x173126986x185096808  |  Bomb: 95278349x183780708  |  Loc: 95227228x179111897  |  Direction: DR\n",
      "Board: 95227228x95462788x179111897x185096808  |  Bomb: 95278349x183780708  |  Loc: 95345008x182104352  |  Direction: DL\n",
      "Board: 95227228x95345008x182104352x185096808  |  Bomb: 95278349x183780708  |  Loc: 95286118x183600580  |  Direction: DL\n",
      "Board: 95227228x95286118x183600580x185096808  |  Bomb: 95278349x183780708  |  Loc: 95256673x184348694  |  Direction: UR\n",
      "Board: 95256673x95286118x183600580x184348694  |  Bomb: 95278349x183780708  |  Loc: 95271395x139787961  |  Direction: DR\n",
      "Board: 95271395x95286118x139787961x184348694  |  Bomb: 95278349x183780708  |  Loc: 95278756x162068327  |  Direction: DL\n",
      "Board: 95271395x95278756x162068327x184348694  |  Bomb: 95278349x183780708  |  Loc: 95275075x173208510  |  Direction: DR\n",
      "Board: 95275075x95278756x173208510x184348694  |  Bomb: 95278349x183780708  |  Loc: 95276915x178778602  |  Direction: DR\n",
      "Board: 95276915x95278756x178778602x184348694  |  Bomb: 95278349x183780708  |  Loc: 95277835x181563648  |  Direction: DR\n",
      "Board: 95277835x95278756x181563648x184348694  |  Bomb: 95278349x183780708  |  Loc: 95278295x182956171  |  Direction: DR\n",
      "Board: 95278295x95278756x182956171x184348694  |  Bomb: 95278349x183780708  |  Loc: 95278525x183652432  |  Direction: DL\n",
      "Board: 95278295x95278525x183652432x184348694  |  Bomb: 95278349x183780708  |  Loc: 95278410x184000563  |  Direction: UL\n",
      "Board: 95278295x95278410x183652432x184000563  |  Bomb: 95278349x183780708  |  Loc: 95278352x183826497  |  Direction: UL\n",
      "Board: 95278295x95278352x183652432x183826497  |  Bomb: 95278349x183780708  |  Loc: 95278323x183739464  |  Direction: DR\n",
      "Board: 95278323x95278352x183739464x183826497  |  Bomb: 95278349x183780708  |  Loc: 95278337x183782980  |  Direction: UR\n",
      "Board: 95278337x95278352x183739464x183782980  |  Bomb: 95278349x183780708  |  Loc: 95278344x139530651  |  Direction: DR\n",
      "Board: 95278344x95278352x139530651x183782980  |  Bomb: 95278349x183780708  |  Loc: 95278348x161656815  |  Direction: DR\n",
      "Board: 95278348x95278352x161656815x183782980  |  Bomb: 95278349x183780708  |  Loc: 95278350x172719897  |  Direction: DL\n",
      "Board: 95278348x95278350x172719897x183782980  |  Bomb: 95278349x183780708  |  Loc: 95278349x178251438  |  Direction: D\n",
      "Board: 95278349x95278349x178251438x183782980  |  Bomb: 95278349x183780708  |  Loc: 95278349x181017209  |  Direction: D\n",
      "Board: 95278349x95278349x181017209x183782980  |  Bomb: 95278349x183780708  |  Loc: 95278349x182400094  |  Direction: D\n",
      "Board: 95278349x95278349x182400094x183782980  |  Bomb: 95278349x183780708  |  Loc: 95278349x183091537  |  Direction: D\n",
      "Board: 95278349x95278349x183091537x183782980  |  Bomb: 95278349x183780708  |  Loc: 95278349x183437258  |  Direction: D\n",
      "Board: 95278349x95278349x183437258x183782980  |  Bomb: 95278349x183780708  |  Loc: 95278349x183610119  |  Direction: D\n",
      "Board: 95278349x95278349x183610119x183782980  |  Bomb: 95278349x183780708  |  Loc: 95278349x183696549  |  Direction: D\n",
      "Board: 95278349x95278349x183696549x183782980  |  Bomb: 95278349x183780708  |  Loc: 95278349x183739764  |  Direction: D\n",
      "Board: 95278349x95278349x183739764x183782980  |  Bomb: 95278349x183780708  |  Loc: 95278349x183761372  |  Direction: D\n",
      "Board: 95278349x95278349x183761372x183782980  |  Bomb: 95278349x183780708  |  Loc: 95278349x183772176  |  Direction: D\n",
      "Board: 95278349x95278349x183772176x183782980  |  Bomb: 95278349x183780708  |  Loc: 95278349x183777578  |  Direction: D\n",
      "Board: 95278349x95278349x183777578x183782980  |  Bomb: 95278349x183780708  |  Loc: 95278349x183780279  |  Direction: D\n",
      "Board: 95278349x95278349x183780279x183782980  |  Bomb: 95278349x183780708  |  Loc: 95278349x183781629  |  Direction: U\n",
      "Board: 95278349x95278349x183780279x183781629  |  Bomb: 95278349x183780708  |  Loc: 95278349x183780954  |  Direction: U\n",
      "Board: 95278349x95278349x183780279x183780954  |  Bomb: 95278349x183780708  |  Loc: 95278349x183780616  |  Direction: D\n",
      "Board: 95278349x95278349x183780616x183780954  |  Bomb: 95278349x183780708  |  Loc: 95278349x183780785  |  Direction: U\n",
      "Board: 95278349x95278349x183780616x183780785  |  Bomb: 95278349x183780708  |  Loc: 95278349x183780700  |  Direction: D\n",
      "Board: 95278349x95278349x183780700x183780785  |  Bomb: 95278349x183780708  |  Loc: 95278349x183780742  |  Direction: U\n",
      "Board: 95278349x95278349x183780700x183780742  |  Bomb: 95278349x183780708  |  Loc: 95278349x183780721  |  Direction: U\n",
      "Board: 95278349x95278349x183780700x183780721  |  Bomb: 95278349x183780708  |  Loc: 95278349x183780710  |  Direction: U\n",
      "Board: 95278349x95278349x183780700x183780710  |  Bomb: 95278349x183780708  |  Loc: 95278349x183780705  |  Direction: D\n",
      "Board: 95278349x95278349x183780705x183780710  |  Bomb: 95278349x183780708  |  Loc: 95278349x183780707  |  Direction: D\n"
     ]
    },
    {
     "data": {
      "text/plain": [
       "- : string = \"success\"\n"
      ]
     },
     "execution_count": 23,
     "metadata": {},
     "output_type": "execute_result"
    }
   ],
   "source": [
    "loop current_loc 0 print_step bomb_loc"
   ]
  },
  {
   "cell_type": "code",
   "execution_count": null,
   "metadata": {
    "vscode": {
     "languageId": "ocaml"
    }
   },
   "outputs": [],
   "source": []
  },
  {
   "cell_type": "code",
   "execution_count": null,
   "metadata": {},
   "outputs": [],
   "source": []
  }
 ],
 "metadata": {
  "celltoolbar": "Tags",
  "interpreter": {
   "hash": "2919f7ed6131f896cd9e7617f357d6c5d730d5509204ac2818bea7544a03cf81"
  },
  "kernelspec": {
   "display_name": "OCaml 4.13.1",
   "language": "OCaml",
   "name": "ocaml-jupyter-4.13.1"
  },
  "language_info": {
   "codemirror_mode": "text/x-ocaml",
   "file_extension": ".ml",
   "mimetype": "text/x-ocaml",
   "name": "OCaml",
   "nbconverter_exporter": null,
   "pygments_lexer": "OCaml",
   "version": "4.13.1"
  }
 },
 "nbformat": 4,
 "nbformat_minor": 2
}
