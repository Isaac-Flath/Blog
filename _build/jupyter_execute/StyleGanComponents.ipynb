{
 "cells": [
  {
   "cell_type": "markdown",
   "metadata": {},
   "source": [
    "# StyleGAN Components\n",
    "> Showing the key components to StyleGAN and how they work\n",
    "\n",
    "- toc: true\n",
    "- badges: true\n",
    "- comments: true\n",
    "- author: Isaac Flath\n",
    "- categories: [Computer Vision, GAN]"
   ]
  },
  {
   "cell_type": "markdown",
   "metadata": {},
   "source": [
    "## Intro"
   ]
  },
  {
   "cell_type": "markdown",
   "metadata": {},
   "source": [
    "In this post I will cover several components needed for style GAN and build a basic one using those blocks.  I am not going to train it, or try to make a state of the art one.  Things will be simplified to the simplest form possible to understand the concept.  If you want to understand some of the key techniques used in modern SoTA GANs, this is the post for you!\n",
    "\n",
    "A future post will be actually building a real StyleGAN model to produce high def images to show practical GANs in full size networks to create actual images.  Reading this post first is highly recommended!\n",
    "\n",
    "Inspiration for this post came from the deeplearning.ai GAN specialization.  For more complete information on GANs in a structured course, check that course out!"
   ]
  },
  {
   "cell_type": "markdown",
   "metadata": {},
   "source": [
    "## Truncated Noise\n",
    "\n",
    "The first is an easy one to get us warmed up!  This is not something used during training, but rather a technique you can use after training to control the diversity-quality trade-off when you generate images.\n",
    "\n",
    "Generators work by taking in random noise.  The random noise can be thought of a a random seed that the generators create images from.  Normally we sample from the normal distribution.  If you look at the normal distribution graph below you will realize that some values will be selected a lot, while others will be selected pretty rarely.  If a value is in the tail, it will be selected much less frequently than a value close to the mean.  So what does that mean?  It means that for those particular values there will have been fewer examples to train with and will thus probably will result in lower quality images.\n",
    "\n",
    "In order to deal with this issue we can truncate the normal distribution to sample from only the higher frequency areas.  The reason this is a trade-off is because if we have fewer possible values (starting points), that mean means fewer possible images can be generated.  In other words we will have less diverse outputs.  \n",
    "\n",
    "**So the key things to know are**:\n",
    "+ Truncated Normal Distribution just cuts off values on each each based on some set parameter\n",
    "+ Left graph shows normal distribution - right graphs show different levels of truncation\n",
    "+ There is a diversity/quality trade-off that this technique allows you to make\n",
    "+ Graphs are most diversity in output images to least diversity from left to right\n",
    "+ Graphs are lowest quality images to highest quality images from left to right"
   ]
  },
  {
   "cell_type": "code",
   "execution_count": 1,
   "metadata": {},
   "outputs": [
    {
     "ename": "ModuleNotFoundError",
     "evalue": "No module named 'torch'",
     "output_type": "error",
     "traceback": [
      "\u001b[0;31m---------------------------------------------------------------------------\u001b[0m",
      "\u001b[0;31mModuleNotFoundError\u001b[0m                       Traceback (most recent call last)",
      "Input \u001b[0;32mIn [1]\u001b[0m, in \u001b[0;36m<cell line: 5>\u001b[0;34m()\u001b[0m\n\u001b[1;32m      3\u001b[0m \u001b[38;5;28;01mimport\u001b[39;00m \u001b[38;5;21;01mmatplotlib\u001b[39;00m\u001b[38;5;21;01m.\u001b[39;00m\u001b[38;5;21;01mpyplot\u001b[39;00m \u001b[38;5;28;01mas\u001b[39;00m \u001b[38;5;21;01mplt\u001b[39;00m\n\u001b[1;32m      4\u001b[0m \u001b[38;5;28;01mimport\u001b[39;00m \u001b[38;5;21;01mnumpy\u001b[39;00m \u001b[38;5;28;01mas\u001b[39;00m \u001b[38;5;21;01mnp\u001b[39;00m\n\u001b[0;32m----> 5\u001b[0m \u001b[38;5;28;01mfrom\u001b[39;00m \u001b[38;5;21;01mtorch\u001b[39;00m \u001b[38;5;28;01mimport\u001b[39;00m nn\n\u001b[1;32m      6\u001b[0m \u001b[38;5;28;01mimport\u001b[39;00m \u001b[38;5;21;01mtorch\u001b[39;00m\u001b[38;5;21;01m.\u001b[39;00m\u001b[38;5;21;01mnn\u001b[39;00m\u001b[38;5;21;01m.\u001b[39;00m\u001b[38;5;21;01mfunctional\u001b[39;00m \u001b[38;5;28;01mas\u001b[39;00m \u001b[38;5;21;01mF\u001b[39;00m\n\u001b[1;32m      7\u001b[0m \u001b[38;5;28;01mimport\u001b[39;00m \u001b[38;5;21;01mtorch\u001b[39;00m\n",
      "\u001b[0;31mModuleNotFoundError\u001b[0m: No module named 'torch'"
     ]
    }
   ],
   "source": [
    "#hide_input\n",
    "import scipy.stats as stats\n",
    "import matplotlib.pyplot as plt\n",
    "import numpy as np\n",
    "from torch import nn\n",
    "import torch.nn.functional as F\n",
    "import torch\n",
    "\n",
    "x_range = np.linspace(-3,3,1000)\n",
    "fig,ax = plt.subplots(1,3,figsize=(13,5))\n",
    "ax[0].plot(x_range, stats.truncnorm.pdf(x_range, -5, 5, loc=0, scale=1))\n",
    "ax[1].plot(x_range, stats.truncnorm.pdf(x_range, -2, 2, loc=0, scale=1))\n",
    "ax[2].plot(x_range, stats.truncnorm.pdf(x_range, -1, 1, loc=0, scale=1))\n",
    "ax[0].set_title('Normal Distribution')\n",
    "ax[1].set_title('Lightly Truncated Normal Distribution')\n",
    "ax[2].set_title('Heavyily Truncated Normal Distribution')\n",
    "plt.show()"
   ]
  },
  {
   "cell_type": "code",
   "execution_count": 2,
   "metadata": {},
   "outputs": [],
   "source": [
    "#hide\n",
    "from scipy.stats import truncnorm\n",
    "\n",
    "def get_truncated_noise(n_samples, z_dim, truncation):\n",
    "    return torch.Tensor(truncnorm.rvs(-truncation, truncation, size=(n_samples, z_dim)))"
   ]
  },
  {
   "cell_type": "markdown",
   "metadata": {},
   "source": [
    "## Noise to Weight Mapping\n",
    "\n",
    "The next component is a noise to weight mapping.  A generator gets a noise vector of random values from the normal distribution.  This may be problematic.  Not all of our features will follow the normal distribution - so trying to map normal distribution values to various features that follow other distributions gets messy.\n",
    "\n",
    "This is especially problematic because we want to be able to independently control features in the output image.  I don't want to modify the direction the eyes are looking and have that also change facial features.  I want to be able to tweak components without having a tangled mess of mappings.\n",
    "\n",
    "To fix this we learn the distributions that are ideal for the noise vector.  So random noise comes in, it gets passed through a Mapping Network and we end with a weight matrix `w`.  Since a neural network can approximate any function, that means it can approximate any distribution so this should work.  This lets your model learn represent things in a cleaner way and makes your mapping much less tangled so you can control features much easier.\n",
    "\n",
    "The mapping network in StyleGAN is composed of 8 layers - but here's a simplified version just to get the idea that it's just a normal neural network that is mapping the noise vector (z) to the weights vector (w)."
   ]
  },
  {
   "cell_type": "code",
   "execution_count": 3,
   "metadata": {},
   "outputs": [
    {
     "data": {
      "text/plain": [
       "MappingNetwork(\n",
       "  (mapping): Sequential(\n",
       "    (0): Linear(in_features=100, out_features=200, bias=True)\n",
       "    (1): ReLU()\n",
       "    (2): Linear(in_features=200, out_features=200, bias=True)\n",
       "    (3): ReLU()\n",
       "    (4): Linear(in_features=200, out_features=75, bias=True)\n",
       "  )\n",
       ")"
      ]
     },
     "execution_count": 3,
     "metadata": {},
     "output_type": "execute_result"
    }
   ],
   "source": [
    "class MappingNetwork(nn.Module):\n",
    "    def __init__(self, z_dim, hidden_dim, w_dim):\n",
    "        super().__init__()\n",
    "\n",
    "        self.mapping = nn.Sequential(\n",
    "            nn.Linear(z_dim,      hidden_dim),  nn.ReLU(),\n",
    "            nn.Linear(hidden_dim, hidden_dim),  nn.ReLU(),\n",
    "            nn.Linear(hidden_dim, w_dim))\n",
    "\n",
    "    def forward(self, noise): return self.mapping(noise)\n",
    "    \n",
    "MappingNetwork(100,200,75)"
   ]
  },
  {
   "cell_type": "markdown",
   "metadata": {},
   "source": [
    "## Noise Injection"
   ]
  },
  {
   "cell_type": "markdown",
   "metadata": {},
   "source": [
    "Next, we need a process for injecting random noise in various parts of the network.  This is different than the weight vector we created above.  We inject this additional noise to increase diversity.  The way this works:\n",
    "1. Create 1 weight for each channel (learned)\n",
    "1. Create a noise tensor of random numbers the same size as your image, but with only 1 channel (random)\n",
    "1. Multiply noise tensor by each of those values so you end with something same dimension as image and add this to the image\n",
    "\n",
    "That outputs the new image that includes the noise can continue down the network.  Nothing special needs to happen other than this because we didn't change any dimensions.  Really it's just a linear layer with random noise in it.  You can see below that then image shape and the final shape are identical.\n",
    "\n",
    "This happens in many places in the network before every AdaIN layer.  So let's see what the AdaIN layer is."
   ]
  },
  {
   "cell_type": "code",
   "execution_count": 4,
   "metadata": {},
   "outputs": [
    {
     "name": "stdout",
     "output_type": "stream",
     "text": [
      "Image (input)                     torch.Size([32, 512, 4, 4])\n",
      "Weight (step 1):                  torch.Size([1, 512, 1, 1])\n",
      "Noise (step 2):                   torch.Size([32, 1, 4, 4])\n",
      "weight * noise + image (ouput):   torch.Size([32, 512, 4, 4])\n"
     ]
    }
   ],
   "source": [
    "class InjectNoise(nn.Module):\n",
    "    def __init__(self, channels):\n",
    "        super().__init__()\n",
    "        self.weight = nn.Parameter(torch.randn(channels)[None, :, None, None])\n",
    "\n",
    "    def forward(self, image):\n",
    "        noise_shape = (image.shape[0],1,image.shape[2],image.shape[3]) \n",
    "        noise = torch.randn(noise_shape, device=image.device)\n",
    "        out = image + self.weight * noise\n",
    "        print(f'Image (input)                     {image.shape}')        \n",
    "        print(f'Weight (step 1):                  {self.weight.shape}')\n",
    "        print(f'Noise (step 2):                   {noise.shape}')\n",
    "        print(f'weight * noise + image (ouput):   {out.shape}')\n",
    "        return out\n",
    "tmp = InjectNoise(512)(torch.randn(32,512,4,4))"
   ]
  },
  {
   "cell_type": "markdown",
   "metadata": {},
   "source": [
    "## Adaptive Instance Normalization (AdaIN)\n",
    "\n",
    "\n",
    "To recap what we have so far:\n",
    "+ An image that has random noise injected into it from the Noise Injection Step\n",
    "+ A transformed noise matrix from our mapping network `w`\n",
    "\n",
    "We need to combine these and we need some sort of normalization.  That is what this Adaptive Instance normalization is going to do.  Just like the noise injection happens in many places in the network.\n",
    "\n",
    "As previously mentioned, injecting `w` rather than just normally distributed noise gives us more control over the images generated.  We are going to take our image after normalization, multiply it by a `scale` from the weight matrix and add a `shift` also from the weight matrix. Put another way, another linear layer.  So in summary what we need to do is:\n",
    "\n",
    "1. Normalize the image\n",
    "1. Use a linear layer to map `w` to 1 value per channel to give us a `scale` tensor\n",
    "1. Use a linear layer to map `w` to 1 value per channel to give us a `shift` tensor\n",
    "1. output `style_tensor * normalized_image  + shift_tensor`\n",
    "\n",
    "\n",
    "Take a look below at some the code for what it does and the shapes to understand the inputs and outputs.  Input and output size is the same, but with normalization and injected weight tensor!"
   ]
  },
  {
   "cell_type": "code",
   "execution_count": 5,
   "metadata": {},
   "outputs": [
    {
     "name": "stdout",
     "output_type": "stream",
     "text": [
      "Image (input)                       torch.Size([32, 512, 4, 4])\n",
      "normalized_image (step 1)           torch.Size([32, 512, 4, 4])\n",
      "w (input)                           torch.Size([32, 256])\n",
      "scale (step 2):                     torch.Size([32, 512, 1, 1])\n",
      "shift (step 3):                     torch.Size([32, 512, 1, 1])\n",
      "scale * norm_image + shift (ouput): torch.Size([32, 512, 4, 4])\n"
     ]
    }
   ],
   "source": [
    "class AdaIN(nn.Module):\n",
    "\n",
    "    def __init__(self, channels, w_dim):\n",
    "        super().__init__()\n",
    "        self.instance_norm = nn.InstanceNorm2d(channels)\n",
    "        self.scale_transform = nn.Linear(w_dim, channels)\n",
    "        self.shift_transform = nn.Linear(w_dim, channels)\n",
    "\n",
    "    def forward(self, image, w):\n",
    "        normalized_image = self.instance_norm(image)\n",
    "        scale_tensor = self.scale_transform(w)[:, :, None, None]\n",
    "        shift_tensor = self.shift_transform(w)[:, :, None, None]\n",
    "        transformed_image = scale_tensor * normalized_image + shift_tensor\n",
    "        \n",
    "        print(f'Image (input)                       {image.shape}')        \n",
    "        print(f'normalized_image (step 1)           {normalized_image.shape}')        \n",
    "        print(f'w (input)                           {w.shape}')        \n",
    "        print(f'scale (step 2):                     {scale_tensor.shape}')\n",
    "        print(f'shift (step 3):                     {shift_tensor.shape}')\n",
    "        print(f'scale * norm_image + shift (ouput): {transformed_image.shape}')\n",
    "        \n",
    "        return transformed_image\n",
    "tmp = AdaIN(512,256)(torch.randn(32,512,4,4),torch.randn(32,256))"
   ]
  },
  {
   "cell_type": "markdown",
   "metadata": {},
   "source": [
    "## Progressive Growing"
   ]
  },
  {
   "cell_type": "markdown",
   "metadata": {},
   "source": [
    "Now there's one last piece we need to understand the main components of styleGAN.  Progessive growing is just what it sounds like.  The generator will create a small image and progressively grow the size.  It doubles the image in size until getting the image to the required size.  This allows for higher quality and resolution photos.  \n",
    "\n",
    "Intuitively this makes sense.  It'd be much harder to generate an entire picture all at once that all meshes well together.  Instead we put basic structures and build on it slowly by filling in more and more fine details over time as the image you are generating increases in size.\n",
    "\n",
    "So let's jump into it.  Let's create a re-usable block to implement this using the other components as well.  Here's what we need:\n",
    "1. An upsampling layer (for progressive growing)\n",
    "1. A convolutional layer (standard for image problems)\n",
    "1. Random noise injection (we created that above)\n",
    "1. An AdaIN layer (we created that above)\n",
    "1. An activation (just like all neural networks need)"
   ]
  },
  {
   "cell_type": "code",
   "execution_count": 6,
   "metadata": {},
   "outputs": [],
   "source": [
    "class MinifiedStyleGANGeneratorBlock(nn.Module):\n",
    "\n",
    "    def __init__(self, in_chan, out_chan, w_dim, kernel_size, starting_size, use_upsample=True):\n",
    "        super().__init__()\n",
    "        self.use_upsample = use_upsample\n",
    "        if self.use_upsample: self.upsample = nn.Upsample((starting_size), mode='bilinear')\n",
    "        self.conv = nn.Conv2d(in_chan, out_chan, kernel_size, padding=1) \n",
    "        self.inject_noise = InjectNoise(out_chan)\n",
    "        self.adain = AdaIN(out_chan, w_dim)\n",
    "        self.activation = nn.LeakyReLU(0.2)\n",
    "\n",
    "    def forward(self, x, w):\n",
    "        if self.use_upsample: x = self.upsample(x) # upsample        (step 1)\n",
    "        x = self.conv(x)                           # conv layer      (step 2)\n",
    "        x = self.inject_noise(x)                   # noise injection (step 3)        \n",
    "        x = self.activation(x)                     # activation      (step 4)     \n",
    "        x = self.adain(x, w)                       # AdaIN           (step 5)\n",
    "        return x\n"
   ]
  },
  {
   "cell_type": "markdown",
   "metadata": {},
   "source": [
    "Now, you can implement progressive growing and put it all together.  Let's see how that works in StyleGAN. As you can see we move from an 8x8 image to a 16x16 image.  StyleGAn will do this many times.\n",
    "\n",
    "Keep in mind all of this is simplified and scaled down from what is in StyleGAN.  The purpose of this blog was to communicate the core concepts and techniques used in StyleGAN, not necessarily show the practical applications.  Stay tuned for a blog that shows practical application of these concepts!"
   ]
  },
  {
   "cell_type": "code",
   "execution_count": 7,
   "metadata": {},
   "outputs": [],
   "source": [
    "#hide\n",
    "class AdaIN(nn.Module):\n",
    "    def __init__(self, channels, w_dim):\n",
    "        super().__init__()\n",
    "        self.instance_norm = nn.InstanceNorm2d(channels)\n",
    "        self.scale_transform = nn.Linear(w_dim, channels)\n",
    "        self.shift_transform = nn.Linear(w_dim, channels)\n",
    "\n",
    "    def forward(self, image, w):\n",
    "        normalized_image = self.instance_norm(image)\n",
    "        scale_tensor = self.scale_transform(w)[:, :, None, None]\n",
    "        shift_tensor = self.shift_transform(w)[:, :, None, None]\n",
    "        transformed_image = scale_tensor * normalized_image + shift_tensor\n",
    "        return transformed_image\n",
    "      \n",
    "class InjectNoise(nn.Module):\n",
    "    def __init__(self, channels):\n",
    "        super().__init__()\n",
    "        self.weight = nn.Parameter(torch.randn(channels)[None, :, None, None])\n",
    "\n",
    "    def forward(self, image):\n",
    "        noise_shape = (image.shape[0],1,image.shape[2],image.shape[3]) \n",
    "        noise = torch.randn(noise_shape, device=image.device)\n",
    "        out = image + self.weight * noise\n",
    "        return out"
   ]
  },
  {
   "cell_type": "code",
   "execution_count": 9,
   "metadata": {},
   "outputs": [
    {
     "name": "stdout",
     "output_type": "stream",
     "text": [
      "ImageSize1      torch.Size([10, 3, 8, 8])\n",
      "ImageSize2      torch.Size([10, 3, 16, 16])\n"
     ]
    }
   ],
   "source": [
    "class MinifiedStyleGANGenerator(nn.Module):\n",
    "\n",
    "    def __init__(self, z_dim, map_hidden_dim, w_dim, in_chan, out_chan, kernel_size, hidden_chan):\n",
    "        super().__init__()\n",
    "        self.map = MappingNetwork(z_dim, map_hidden_dim, w_dim)\n",
    "        self.sc = nn.Parameter(torch.randn(1, in_chan, 4, 4))\n",
    "        self.block0 = MinifiedStyleGANGeneratorBlock(in_chan, hidden_chan, w_dim, kernel_size, 4)\n",
    "        self.block1 = MinifiedStyleGANGeneratorBlock(hidden_chan, hidden_chan, w_dim, kernel_size, 8)\n",
    "        self.block2 = MinifiedStyleGANGeneratorBlock(hidden_chan, hidden_chan, w_dim, kernel_size, 16)\n",
    "        self.block1_to_image = nn.Conv2d(hidden_chan, out_chan, kernel_size=1)\n",
    "        self.block2_to_image = nn.Conv2d(hidden_chan, out_chan, kernel_size=1)\n",
    "\n",
    "    def upsample_to_match_size(self, smaller_image, bigger_image):\n",
    "        return F.interpolate(smaller_image, size=bigger_image.shape[-2:], mode='bilinear')\n",
    "\n",
    "    def forward(self, noise, return_intermediate=False):\n",
    "        w = self.map(noise) # This is our mapping network going from noise -> w\n",
    "        x = self.block0(self.sc, w) # w from mapping network is input here\n",
    "        \n",
    "        x1 = self.block1(x, w) # w noise from mapping network is input here also\n",
    "        image1 = self.block1_to_image(x1)\n",
    "        print(f'ImageSize1      {image1.shape}')\n",
    "        \n",
    "        x2 = self.block2(x1, w) # w noise from mapping network is input here also\n",
    "        image2 = self.block2_to_image(x2)\n",
    "        print(f'ImageSize2      {image2.shape}')\n",
    "        \n",
    "        x1_upsample = self.upsample_to_match_size(image1, image2)\n",
    "        return 0.2 * (image2) + 0.8 * (x1_upsample)  \n",
    "      \n",
    "tmp = MinifiedStyleGANGenerator(z_dim=128, map_hidden_dim=1024,w_dim=496,in_chan=512,out_chan=3, kernel_size=3, hidden_chan=256)(get_truncated_noise(10, 128, 0.7))"
   ]
  },
  {
   "cell_type": "code",
   "execution_count": null,
   "metadata": {},
   "outputs": [],
   "source": []
  }
 ],
 "metadata": {
  "kernelspec": {
   "display_name": "Python 3",
   "language": "python",
   "name": "python3"
  },
  "language_info": {
   "codemirror_mode": {
    "name": "ipython",
    "version": 3
   },
   "file_extension": ".py",
   "mimetype": "text/x-python",
   "name": "python",
   "nbconvert_exporter": "python",
   "pygments_lexer": "ipython3",
   "version": "3.9.7"
  },
  "toc": {
   "base_numbering": 1,
   "nav_menu": {},
   "number_sections": true,
   "sideBar": true,
   "skip_h1_title": false,
   "title_cell": "Table of Contents",
   "title_sidebar": "Contents",
   "toc_cell": false,
   "toc_position": {},
   "toc_section_display": true,
   "toc_window_display": false
  }
 },
 "nbformat": 4,
 "nbformat_minor": 4
}