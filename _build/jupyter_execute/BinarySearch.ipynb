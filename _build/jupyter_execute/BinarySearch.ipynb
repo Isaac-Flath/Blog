{
 "cells": [
  {
   "cell_type": "markdown",
   "metadata": {},
   "source": [
    "# Binary Search"
   ]
  },
  {
   "cell_type": "markdown",
   "metadata": {},
   "source": [
    "**Purpose:** In this article we will explore binary search in ocaml"
   ]
  },
  {
   "cell_type": "code",
   "execution_count": 1,
   "metadata": {
    "tags": [
     "remove-output"
    ],
    "vscode": {
     "languageId": "ocaml"
    }
   },
   "outputs": [
    {
     "name": "stderr",
     "output_type": "stream",
     "text": [
      "/Users/isaacflath/.opam/4.13.1/lib/base/base_internalhash_types: added to search path\n"
     ]
    },
    {
     "name": "stderr",
     "output_type": "stream",
     "text": [
      "/Users/isaacflath/.opam/4.13.1/lib/base/base_internalhash_types/base_internalhash_types.cma: loaded\n"
     ]
    },
    {
     "name": "stderr",
     "output_type": "stream",
     "text": [
      "/Users/isaacflath/.opam/4.13.1/lib/base/caml: added to search path\n"
     ]
    },
    {
     "name": "stderr",
     "output_type": "stream",
     "text": [
      "/Users/isaacflath/.opam/4.13.1/lib/base/caml/caml.cma: loaded\n"
     ]
    },
    {
     "name": "stderr",
     "output_type": "stream",
     "text": [
      "/Users/isaacflath/.opam/4.13.1/lib/base/shadow_stdlib: added to search path\n"
     ]
    },
    {
     "name": "stderr",
     "output_type": "stream",
     "text": [
      "/Users/isaacflath/.opam/4.13.1/lib/base/shadow_stdlib/shadow_stdlib.cma: loaded\n"
     ]
    },
    {
     "name": "stderr",
     "output_type": "stream",
     "text": [
      "/Users/isaacflath/.opam/4.13.1/lib/sexplib0: added to search path\n"
     ]
    },
    {
     "name": "stderr",
     "output_type": "stream",
     "text": [
      "/Users/isaacflath/.opam/4.13.1/lib/sexplib0/sexplib0.cma: loaded\n"
     ]
    },
    {
     "name": "stderr",
     "output_type": "stream",
     "text": [
      "/Users/isaacflath/.opam/4.13.1/lib/base: added to search path\n"
     ]
    },
    {
     "name": "stderr",
     "output_type": "stream",
     "text": [
      "/Users/isaacflath/.opam/4.13.1/lib/base/base.cma: loaded\n"
     ]
    },
    {
     "name": "stderr",
     "output_type": "stream",
     "text": [
      "/Users/isaacflath/.opam/4.13.1/lib/fieldslib: added to search path\n"
     ]
    },
    {
     "name": "stderr",
     "output_type": "stream",
     "text": [
      "/Users/isaacflath/.opam/4.13.1/lib/fieldslib/fieldslib.cma: loaded\n"
     ]
    },
    {
     "name": "stderr",
     "output_type": "stream",
     "text": [
      "/Users/isaacflath/.opam/4.13.1/lib/ppx_compare/runtime-lib: added to search path\n"
     ]
    },
    {
     "name": "stderr",
     "output_type": "stream",
     "text": [
      "/Users/isaacflath/.opam/4.13.1/lib/ppx_compare/runtime-lib/ppx_compare_lib.cma: loaded\n"
     ]
    },
    {
     "name": "stderr",
     "output_type": "stream",
     "text": [
      "/Users/isaacflath/.opam/4.13.1/lib/ppx_enumerate/runtime-lib: added to search path\n"
     ]
    },
    {
     "name": "stderr",
     "output_type": "stream",
     "text": [
      "/Users/isaacflath/.opam/4.13.1/lib/ppx_enumerate/runtime-lib/ppx_enumerate_lib.cma: loaded\n"
     ]
    },
    {
     "name": "stderr",
     "output_type": "stream",
     "text": [
      "/Users/isaacflath/.opam/4.13.1/lib/ppx_sexp_conv/runtime-lib: added to search path\n"
     ]
    },
    {
     "name": "stderr",
     "output_type": "stream",
     "text": [
      "/Users/isaacflath/.opam/4.13.1/lib/ppx_sexp_conv/runtime-lib/ppx_sexp_conv_lib.cma: loaded\n"
     ]
    },
    {
     "name": "stderr",
     "output_type": "stream",
     "text": [
      "/Users/isaacflath/.opam/4.13.1/lib/ppx_hash/runtime-lib: added to search path\n"
     ]
    },
    {
     "name": "stderr",
     "output_type": "stream",
     "text": [
      "/Users/isaacflath/.opam/4.13.1/lib/ppx_hash/runtime-lib/ppx_hash_lib.cma: loaded\n"
     ]
    },
    {
     "name": "stderr",
     "output_type": "stream",
     "text": [
      "/Users/isaacflath/.opam/4.13.1/lib/ppx_here/runtime-lib: added to search path\n"
     ]
    },
    {
     "name": "stderr",
     "output_type": "stream",
     "text": [
      "/Users/isaacflath/.opam/4.13.1/lib/ppx_here/runtime-lib/ppx_here_lib.cma: loaded\n"
     ]
    },
    {
     "name": "stderr",
     "output_type": "stream",
     "text": [
      "/Users/isaacflath/.opam/4.13.1/lib/ppx_assert/runtime-lib: added to search path\n"
     ]
    },
    {
     "name": "stderr",
     "output_type": "stream",
     "text": [
      "/Users/isaacflath/.opam/4.13.1/lib/ppx_assert/runtime-lib/ppx_assert_lib.cma: loaded\n"
     ]
    },
    {
     "name": "stderr",
     "output_type": "stream",
     "text": [
      "/Users/isaacflath/.opam/4.13.1/lib/ppx_bench/runtime-lib: added to search path\n"
     ]
    },
    {
     "name": "stderr",
     "output_type": "stream",
     "text": [
      "/Users/isaacflath/.opam/4.13.1/lib/ppx_bench/runtime-lib/ppx_bench_lib.cma: loaded\n"
     ]
    },
    {
     "name": "stderr",
     "output_type": "stream",
     "text": [
      "/Users/isaacflath/.opam/4.13.1/lib/ppx_inline_test/config: added to search path\n"
     ]
    },
    {
     "name": "stderr",
     "output_type": "stream",
     "text": [
      "/Users/isaacflath/.opam/4.13.1/lib/ppx_inline_test/config/inline_test_config.cma: loaded\n"
     ]
    },
    {
     "name": "stderr",
     "output_type": "stream",
     "text": [
      "/Users/isaacflath/.opam/4.13.1/lib/jane-street-headers: added to search path\n"
     ]
    },
    {
     "name": "stderr",
     "output_type": "stream",
     "text": [
      "/Users/isaacflath/.opam/4.13.1/lib/jane-street-headers/jane_street_headers.cma: loaded\n"
     ]
    },
    {
     "name": "stderr",
     "output_type": "stream",
     "text": [
      "/Users/isaacflath/.opam/4.13.1/lib/time_now: added to search path\n"
     ]
    },
    {
     "name": "stderr",
     "output_type": "stream",
     "text": [
      "/Users/isaacflath/.opam/4.13.1/lib/time_now/time_now.cma: loaded\n"
     ]
    },
    {
     "name": "stderr",
     "output_type": "stream",
     "text": [
      "/Users/isaacflath/.opam/4.13.1/lib/ppx_inline_test/runtime-lib: added to search path\n"
     ]
    },
    {
     "name": "stderr",
     "output_type": "stream",
     "text": [
      "/Users/isaacflath/.opam/4.13.1/lib/ppx_inline_test/runtime-lib/ppx_inline_test_lib.cma: loaded\n"
     ]
    },
    {
     "name": "stderr",
     "output_type": "stream",
     "text": [
      "/Users/isaacflath/.opam/4.13.1/lib/splittable_random: added to search path\n"
     ]
    },
    {
     "name": "stderr",
     "output_type": "stream",
     "text": [
      "/Users/isaacflath/.opam/4.13.1/lib/splittable_random/splittable_random.cma: loaded\n"
     ]
    },
    {
     "name": "stderr",
     "output_type": "stream",
     "text": [
      "/Users/isaacflath/.opam/4.13.1/lib/base_quickcheck: added to search path\n"
     ]
    },
    {
     "name": "stderr",
     "output_type": "stream",
     "text": [
      "/Users/isaacflath/.opam/4.13.1/lib/base_quickcheck/base_quickcheck.cma: loaded\n"
     ]
    },
    {
     "name": "stderr",
     "output_type": "stream",
     "text": [
      "/Users/isaacflath/.opam/4.13.1/lib/base/md5: added to search path\n"
     ]
    },
    {
     "name": "stderr",
     "output_type": "stream",
     "text": [
      "/Users/isaacflath/.opam/4.13.1/lib/base/md5/md5_lib.cma: loaded\n"
     ]
    },
    {
     "name": "stderr",
     "output_type": "stream",
     "text": [
      "/Users/isaacflath/.opam/4.13.1/lib/ocaml/bigarray.cma: loaded\n"
     ]
    },
    {
     "name": "stderr",
     "output_type": "stream",
     "text": [
      "/Users/isaacflath/.opam/4.13.1/lib/variantslib: added to search path\n"
     ]
    },
    {
     "name": "stderr",
     "output_type": "stream",
     "text": [
      "/Users/isaacflath/.opam/4.13.1/lib/variantslib/variantslib.cma: loaded\n"
     ]
    },
    {
     "name": "stderr",
     "output_type": "stream",
     "text": [
      "/Users/isaacflath/.opam/4.13.1/lib/bin_prot/shape: added to search path\n"
     ]
    },
    {
     "name": "stderr",
     "output_type": "stream",
     "text": [
      "/Users/isaacflath/.opam/4.13.1/lib/bin_prot/shape/bin_shape_lib.cma: loaded\n"
     ]
    },
    {
     "name": "stderr",
     "output_type": "stream",
     "text": [
      "/Users/isaacflath/.opam/4.13.1/lib/bin_prot: added to search path\n"
     ]
    },
    {
     "name": "stderr",
     "output_type": "stream",
     "text": [
      "/Users/isaacflath/.opam/4.13.1/lib/bin_prot/bin_prot.cma: loaded\n"
     ]
    },
    {
     "name": "stderr",
     "output_type": "stream",
     "text": [
      "/Users/isaacflath/.opam/4.13.1/lib/ppx_expect/common: added to search path\n"
     ]
    },
    {
     "name": "stderr",
     "output_type": "stream",
     "text": [
      "/Users/isaacflath/.opam/4.13.1/lib/ppx_expect/common/expect_test_common.cma: loaded\n"
     ]
    },
    {
     "name": "stderr",
     "output_type": "stream",
     "text": [
      "/Users/isaacflath/.opam/4.13.1/lib/ppx_expect/config_types: added to search path\n"
     ]
    },
    {
     "name": "stderr",
     "output_type": "stream",
     "text": [
      "/Users/isaacflath/.opam/4.13.1/lib/ppx_expect/config_types/expect_test_config_types.cma: loaded\n"
     ]
    },
    {
     "name": "stderr",
     "output_type": "stream",
     "text": [
      "/Users/isaacflath/.opam/4.13.1/lib/ppx_expect/collector: added to search path\n"
     ]
    },
    {
     "name": "stderr",
     "output_type": "stream",
     "text": [
      "/Users/isaacflath/.opam/4.13.1/lib/ppx_expect/collector/expect_test_collector.cma: loaded\n"
     ]
    },
    {
     "name": "stderr",
     "output_type": "stream",
     "text": [
      "/Users/isaacflath/.opam/4.13.1/lib/ppx_expect/config: added to search path\n"
     ]
    },
    {
     "name": "stderr",
     "output_type": "stream",
     "text": [
      "/Users/isaacflath/.opam/4.13.1/lib/ppx_expect/config/expect_test_config.cma: loaded\n"
     ]
    },
    {
     "name": "stderr",
     "output_type": "stream",
     "text": [
      "/Users/isaacflath/.opam/4.13.1/lib/stdio: added to search path\n"
     ]
    },
    {
     "name": "stderr",
     "output_type": "stream",
     "text": [
      "/Users/isaacflath/.opam/4.13.1/lib/stdio/stdio.cma: loaded\n"
     ]
    },
    {
     "name": "stderr",
     "output_type": "stream",
     "text": [
      "/Users/isaacflath/.opam/4.13.1/lib/ppx_module_timer/runtime: added to search path\n"
     ]
    },
    {
     "name": "stderr",
     "output_type": "stream",
     "text": [
      "/Users/isaacflath/.opam/4.13.1/lib/ppx_module_timer/runtime/ppx_module_timer_runtime.cma: loaded\n"
     ]
    },
    {
     "name": "stderr",
     "output_type": "stream",
     "text": [
      "/Users/isaacflath/.opam/4.13.1/lib/typerep: added to search path\n"
     ]
    },
    {
     "name": "stderr",
     "output_type": "stream",
     "text": [
      "/Users/isaacflath/.opam/4.13.1/lib/typerep/typerep_lib.cma: loaded\n"
     ]
    },
    {
     "name": "stderr",
     "output_type": "stream",
     "text": [
      "/Users/isaacflath/.opam/4.13.1/lib/base_bigstring: added to search path\n"
     ]
    },
    {
     "name": "stderr",
     "output_type": "stream",
     "text": [
      "/Users/isaacflath/.opam/4.13.1/lib/base_bigstring/base_bigstring.cma: loaded\n"
     ]
    },
    {
     "name": "stderr",
     "output_type": "stream",
     "text": [
      "/Users/isaacflath/.opam/4.13.1/lib/core_kernel/base_for_tests: added to search path\n"
     ]
    },
    {
     "name": "stderr",
     "output_type": "stream",
     "text": [
      "/Users/isaacflath/.opam/4.13.1/lib/core_kernel/base_for_tests/base_for_tests.cma: loaded\n"
     ]
    },
    {
     "name": "stderr",
     "output_type": "stream",
     "text": [
      "/Users/isaacflath/.opam/4.13.1/lib/parsexp: added to search path\n"
     ]
    },
    {
     "name": "stderr",
     "output_type": "stream",
     "text": [
      "/Users/isaacflath/.opam/4.13.1/lib/parsexp/parsexp.cma: loaded\n"
     ]
    },
    {
     "name": "stderr",
     "output_type": "stream",
     "text": [
      "/Users/isaacflath/.opam/4.13.1/lib/sexplib: added to search path\n"
     ]
    },
    {
     "name": "stderr",
     "output_type": "stream",
     "text": [
      "/Users/isaacflath/.opam/4.13.1/lib/sexplib/sexplib.cma: loaded\n"
     ]
    },
    {
     "name": "stderr",
     "output_type": "stream",
     "text": [
      "/Users/isaacflath/.opam/4.13.1/lib/core_kernel: added to search path\n"
     ]
    },
    {
     "name": "stderr",
     "output_type": "stream",
     "text": [
      "/Users/isaacflath/.opam/4.13.1/lib/core_kernel/core_kernel.cma: loaded\n"
     ]
    },
    {
     "name": "stderr",
     "output_type": "stream",
     "text": [
      "/Users/isaacflath/.opam/4.13.1/lib/core/error_checking_mutex: added to search path\n"
     ]
    },
    {
     "name": "stderr",
     "output_type": "stream",
     "text": [
      "/Users/isaacflath/.opam/4.13.1/lib/core/error_checking_mutex/error_checking_mutex.cma: loaded\n"
     ]
    },
    {
     "name": "stderr",
     "output_type": "stream",
     "text": [
      "/Users/isaacflath/.opam/4.13.1/lib/core_kernel/caml_unix: added to search path\n"
     ]
    },
    {
     "name": "stderr",
     "output_type": "stream",
     "text": [
      "/Users/isaacflath/.opam/4.13.1/lib/core_kernel/caml_unix/caml_unix.cma: loaded\n"
     ]
    },
    {
     "name": "stderr",
     "output_type": "stream",
     "text": [
      "/Users/isaacflath/.opam/4.13.1/lib/core_kernel/flags: added to search path\n"
     ]
    },
    {
     "name": "stderr",
     "output_type": "stream",
     "text": [
      "/Users/isaacflath/.opam/4.13.1/lib/core_kernel/flags/flags.cma: loaded\n"
     ]
    },
    {
     "name": "stderr",
     "output_type": "stream",
     "text": [
      "/Users/isaacflath/.opam/4.13.1/lib/core_kernel/version_util: added to search path\n"
     ]
    },
    {
     "name": "stderr",
     "output_type": "stream",
     "text": [
      "/Users/isaacflath/.opam/4.13.1/lib/core_kernel/version_util/version_util.cma: loaded\n"
     ]
    },
    {
     "name": "stderr",
     "output_type": "stream",
     "text": [
      "/Users/isaacflath/.opam/4.13.1/lib/sexplib/unix: added to search path\n"
     ]
    },
    {
     "name": "stderr",
     "output_type": "stream",
     "text": [
      "/Users/isaacflath/.opam/4.13.1/lib/sexplib/unix/sexplib_unix.cma: loaded\n"
     ]
    },
    {
     "name": "stderr",
     "output_type": "stream",
     "text": [
      "/Users/isaacflath/.opam/4.13.1/lib/spawn: added to search path\n"
     ]
    },
    {
     "name": "stderr",
     "output_type": "stream",
     "text": [
      "/Users/isaacflath/.opam/4.13.1/lib/spawn/spawn.cma: loaded\n"
     ]
    },
    {
     "name": "stderr",
     "output_type": "stream",
     "text": [
      "/Users/isaacflath/.opam/4.13.1/lib/timezone: added to search path\n"
     ]
    },
    {
     "name": "stderr",
     "output_type": "stream",
     "text": [
      "/Users/isaacflath/.opam/4.13.1/lib/timezone/timezone.cma: loaded\n"
     ]
    },
    {
     "name": "stderr",
     "output_type": "stream",
     "text": [
      "/Users/isaacflath/.opam/4.13.1/lib/core: added to search path\n"
     ]
    },
    {
     "name": "stderr",
     "output_type": "stream",
     "text": [
      "/Users/isaacflath/.opam/4.13.1/lib/core/core.cma: loaded\n"
     ]
    },
    {
     "name": "stderr",
     "output_type": "stream",
     "text": [
      "/Users/isaacflath/.opam/4.13.1/lib/core/top: added to search path\n"
     ]
    },
    {
     "name": "stderr",
     "output_type": "stream",
     "text": [
      "/Users/isaacflath/.opam/4.13.1/lib/core/top/core_top.cma: loaded\n"
     ]
    },
    {
     "name": "stdout",
     "output_type": "stream",
     "text": [
      "Findlib has been successfully loaded. Additional directives:\n"
     ]
    },
    {
     "name": "stdout",
     "output_type": "stream",
     "text": [
      "  #require \"package\";;      to load a package\n"
     ]
    },
    {
     "name": "stdout",
     "output_type": "stream",
     "text": [
      "  #list;;                   to list the available packages\n"
     ]
    },
    {
     "name": "stdout",
     "output_type": "stream",
     "text": [
      "  #camlp4o;;                to load camlp4 (standard syntax)\n"
     ]
    },
    {
     "name": "stdout",
     "output_type": "stream",
     "text": [
      "  #camlp4r;;                to load camlp4 (revised syntax)\n"
     ]
    },
    {
     "name": "stdout",
     "output_type": "stream",
     "text": [
      "  #predicates \"p,q,...\";;   to set these predicates\n"
     ]
    },
    {
     "name": "stdout",
     "output_type": "stream",
     "text": [
      "  Topfind.reset();;         to force that packages will be reloaded\n"
     ]
    },
    {
     "name": "stdout",
     "output_type": "stream",
     "text": [
      "  #thread;;                 to enable threads\n"
     ]
    },
    {
     "name": "stdout",
     "output_type": "stream",
     "text": [
      "\n"
     ]
    },
    {
     "name": "stderr",
     "output_type": "stream",
     "text": [
      "/Users/isaacflath/.opam/4.13.1/lib/bytes: added to search path\n"
     ]
    },
    {
     "name": "stderr",
     "output_type": "stream",
     "text": [
      "/Users/isaacflath/.opam/4.13.1/lib/base64: added to search path\n"
     ]
    },
    {
     "name": "stderr",
     "output_type": "stream",
     "text": [
      "/Users/isaacflath/.opam/4.13.1/lib/base64/base64.cma: loaded\n"
     ]
    },
    {
     "name": "stderr",
     "output_type": "stream",
     "text": [
      "/Users/isaacflath/.opam/4.13.1/lib/easy-format: added to search path\n"
     ]
    },
    {
     "name": "stderr",
     "output_type": "stream",
     "text": [
      "/Users/isaacflath/.opam/4.13.1/lib/easy-format/easy_format.cma: loaded\n"
     ]
    },
    {
     "name": "stderr",
     "output_type": "stream",
     "text": [
      "/Users/isaacflath/.opam/4.13.1/lib/biniou: added to search path\n"
     ]
    },
    {
     "name": "stderr",
     "output_type": "stream",
     "text": [
      "/Users/isaacflath/.opam/4.13.1/lib/biniou/biniou.cma: loaded\n"
     ]
    },
    {
     "name": "stderr",
     "output_type": "stream",
     "text": [
      "/Users/isaacflath/.opam/4.13.1/lib/yojson: added to search path\n"
     ]
    },
    {
     "name": "stderr",
     "output_type": "stream",
     "text": [
      "/Users/isaacflath/.opam/4.13.1/lib/yojson/yojson.cma: loaded\n"
     ]
    },
    {
     "name": "stderr",
     "output_type": "stream",
     "text": [
      "/Users/isaacflath/.opam/4.13.1/lib/ppx_yojson_conv_lib: added to search path\n"
     ]
    },
    {
     "name": "stderr",
     "output_type": "stream",
     "text": [
      "/Users/isaacflath/.opam/4.13.1/lib/ppx_yojson_conv_lib/ppx_yojson_conv_lib.cma: loaded\n"
     ]
    },
    {
     "name": "stderr",
     "output_type": "stream",
     "text": [
      "/Users/isaacflath/.opam/4.13.1/lib/uuidm: added to search path\n"
     ]
    },
    {
     "name": "stderr",
     "output_type": "stream",
     "text": [
      "/Users/isaacflath/.opam/4.13.1/lib/uuidm/uuidm.cma: loaded\n"
     ]
    },
    {
     "name": "stderr",
     "output_type": "stream",
     "text": [
      "/Users/isaacflath/.opam/4.13.1/lib/jupyter: added to search path\n"
     ]
    },
    {
     "name": "stderr",
     "output_type": "stream",
     "text": [
      "/Users/isaacflath/.opam/4.13.1/lib/jupyter/jupyter.cma: loaded\n"
     ]
    },
    {
     "name": "stderr",
     "output_type": "stream",
     "text": [
      "/Users/isaacflath/.opam/4.13.1/lib/result: added to search path\n"
     ]
    },
    {
     "name": "stderr",
     "output_type": "stream",
     "text": [
      "/Users/isaacflath/.opam/4.13.1/lib/result/result.cma: loaded\n"
     ]
    },
    {
     "name": "stderr",
     "output_type": "stream",
     "text": [
      "/Users/isaacflath/.opam/4.13.1/lib/ppx_deriving/runtime: added to search path\n"
     ]
    },
    {
     "name": "stderr",
     "output_type": "stream",
     "text": [
      "/Users/isaacflath/.opam/4.13.1/lib/ppx_deriving/runtime/ppx_deriving_runtime.cma: loaded\n"
     ]
    },
    {
     "name": "stderr",
     "output_type": "stream",
     "text": [
      "/Users/isaacflath/.opam/4.13.1/lib/jupyter/notebook: added to search path\n"
     ]
    },
    {
     "name": "stderr",
     "output_type": "stream",
     "text": [
      "/Users/isaacflath/.opam/4.13.1/lib/jupyter/notebook/jupyter_notebook.cma: loaded\n"
     ]
    }
   ],
   "source": [
    "#require \"jupyter.notebook\" ;;\n",
    "(* #require \"jupyter-archimedes\" *)\n"
   ]
  },
  {
   "cell_type": "markdown",
   "metadata": {},
   "source": [
    "## Problem Setup\n",
    "\n",
    "For this problem we will be fed a direction, but we won't know the exact coordinate.  Here we create the functions that given a current location and a target location gives us the direction (ie DR, or D)"
   ]
  },
  {
   "cell_type": "code",
   "execution_count": 2,
   "metadata": {},
   "outputs": [
    {
     "data": {
      "text/plain": [
       "exception Damn of string\n"
      ]
     },
     "execution_count": 2,
     "metadata": {},
     "output_type": "execute_result"
    },
    {
     "data": {
      "text/plain": [
       "val get_width_dir : 'a -> 'a -> string = <fun>\n"
      ]
     },
     "execution_count": 2,
     "metadata": {},
     "output_type": "execute_result"
    },
    {
     "data": {
      "text/plain": [
       "val get_height_dir : 'a -> 'a -> string = <fun>\n"
      ]
     },
     "execution_count": 2,
     "metadata": {},
     "output_type": "execute_result"
    },
    {
     "data": {
      "text/plain": [
       "val get_direction : ('a * 'b) * ('c * 'd * 'e * 'f) -> 'a * 'b -> string =\n",
       "  <fun>\n"
      ]
     },
     "execution_count": 2,
     "metadata": {},
     "output_type": "execute_result"
    }
   ],
   "source": [
    "exception Damn of string\n",
    "\n",
    "let get_width_dir bw cw = \n",
    "  match compare cw bw  with\n",
    "    |0 -> \"\"|1 -> \"L\"|(-1) -> \"R\"| _ -> raise (Damn \"error\")\n",
    "\n",
    "let get_height_dir bh ch = \n",
    "  match compare ch bh with\n",
    "    |0 -> \"\" |1 -> \"U\" |(-1) -> \"D\"| _ -> raise (Damn \"error\")\n",
    "\n",
    "let get_direction currentloc bombloc = \n",
    "  let bw,bh = bombloc in\n",
    "  let ((cw,ch),(_,_,_,_)) = currentloc in\n",
    "\n",
    "  (get_height_dir bh ch) ^ (get_width_dir bw cw)"
   ]
  },
  {
   "cell_type": "markdown",
   "metadata": {},
   "source": [
    "## Step Function\n",
    "\n",
    "Next we need to write out step function.  Every step is to the center of the available board, and we shrink the available board with each step as we are given the location."
   ]
  },
  {
   "cell_type": "code",
   "execution_count": 3,
   "metadata": {},
   "outputs": [
    {
     "data": {
      "text/plain": [
       "val take_step :\n",
       "  (int * int) * (int * int * int * int) ->\n",
       "  string -> (int * int) * (int * int * int * int) = <fun>\n"
      ]
     },
     "execution_count": 3,
     "metadata": {},
     "output_type": "execute_result"
    }
   ],
   "source": [
    "let take_step currentloc dir =\n",
    "  let ((cw,ch),(w0,w1,h0,h1)) = currentloc in\n",
    "  match dir with \n",
    "        |\"L\" -> (((w0+cw)/2,ch),(w0,cw,ch,ch))\n",
    "        |\"R\" -> (((cw+w1)/2,ch),(cw,w1,ch,ch))\n",
    "        |\"U\" -> ((cw,(h0+ch)/2),(cw,cw,h0,ch))\n",
    "        |\"D\" -> ((cw,(ch+h1)/2),(cw,cw,ch,h1))\n",
    "        |\"UL\" -> (((w0+cw)/2,(h0+ch)/2),(w0,cw,h0,ch))\n",
    "        |\"UR\" -> (((cw+w1)/2,(w0+ch)/2),(cw,w1,h0,ch))\n",
    "        |\"DL\" -> (((w0+cw)/2,(ch+h1)/2),(w0,cw,ch,h1))\n",
    "        |\"DR\" -> (((cw+w1)/2,(ch+h1)/2),(cw,w1,ch,h1))\n",
    "        |_ -> raise (Damn \"error\")"
   ]
  },
  {
   "cell_type": "markdown",
   "metadata": {},
   "source": [
    "## The Test Loop\n",
    "\n",
    "We will create a test loop that will iterate through until it finds a solution, with some printing so we can see what it's doing."
   ]
  },
  {
   "cell_type": "code",
   "execution_count": 4,
   "metadata": {},
   "outputs": [
    {
     "data": {
      "text/plain": [
       "val print_step :\n",
       "  int * int -> (int * int) * (int * int * int * int) -> string -> unit =\n",
       "  <fun>\n"
      ]
     },
     "execution_count": 4,
     "metadata": {},
     "output_type": "execute_result"
    }
   ],
   "source": [
    "let print_step bl cl bd =\n",
    "    let ((ow,oh),(bw1,bw2,bh1,bh2)) = cl in\n",
    "    let bw, bh = bl in\n",
    "    print_endline (\"Board: \" ^ string_of_int bw1 ^ \"x\"^ string_of_int bw2 ^ \"x\"^ string_of_int bh1 ^ \"x\"^ string_of_int bh2 ^ \"  |  \" ^\n",
    "              \"Bomb: \" ^ string_of_int bw ^ \"x\" ^ string_of_int bh ^ \"  |  \" ^ \n",
    "              \"Loc: \" ^ string_of_int ow ^ \"x\" ^ string_of_int oh ^ \"  |  \" ^ \n",
    "              \"Direction: \" ^ bd);"
   ]
  },
  {
   "cell_type": "code",
   "execution_count": 5,
   "metadata": {
    "vscode": {
     "languageId": "ocaml"
    }
   },
   "outputs": [
    {
     "data": {
      "text/plain": [
       "val loop :\n",
       "  (int * int) * (int * int * int * int) ->\n",
       "  int ->\n",
       "  (int * int -> (int * int) * (int * int * int * int) -> string -> 'a) ->\n",
       "  int * int -> string = <fun>\n"
      ]
     },
     "execution_count": 5,
     "metadata": {},
     "output_type": "execute_result"
    }
   ],
   "source": [
    "let rec loop loc acc printf bl=\n",
    "    let bombdir = get_direction loc bl in\n",
    "    printf bl loc bombdir;\n",
    "\n",
    "    let out = take_step loc bombdir in\n",
    "    let ((ow,oh),(bw1,bw2,bh1,bh2)) = out in\n",
    "\n",
    "\n",
    "    if (ow,oh)=(bl) then \"success\" \n",
    "    else if acc > 200 then \"200 iters\"\n",
    "    else loop out (acc+1) printf bl"
   ]
  },
  {
   "cell_type": "markdown",
   "metadata": {},
   "source": [
    "## The Expirament\n",
    "\n",
    "We can see that even when run with a pretty large random size and locations setup, we solve the problem in relatively few steps."
   ]
  },
  {
   "cell_type": "code",
   "execution_count": 6,
   "metadata": {},
   "outputs": [
    {
     "data": {
      "text/plain": [
       "val sz : int = 1000000\n"
      ]
     },
     "execution_count": 6,
     "metadata": {},
     "output_type": "execute_result"
    },
    {
     "data": {
      "text/plain": [
       "val w : int = 326685\n",
       "val h : int = 809344\n"
      ]
     },
     "execution_count": 6,
     "metadata": {},
     "output_type": "execute_result"
    },
    {
     "data": {
      "text/plain": [
       "val current_loc : int * int = (291071, 435030)\n"
      ]
     },
     "execution_count": 6,
     "metadata": {},
     "output_type": "execute_result"
    },
    {
     "data": {
      "text/plain": [
       "val bomb_loc : int * int = (298160, 349399)\n"
      ]
     },
     "execution_count": 6,
     "metadata": {},
     "output_type": "execute_result"
    },
    {
     "data": {
      "text/plain": [
       "val board : int * int * int * int = (0, 326685, 0, 809344)\n"
      ]
     },
     "execution_count": 6,
     "metadata": {},
     "output_type": "execute_result"
    },
    {
     "data": {
      "text/plain": [
       "val current_loc : (int * int) * (int * int * int * int) =\n",
       "  ((291071, 435030), (0, 326685, 0, 809344))\n"
      ]
     },
     "execution_count": 6,
     "metadata": {},
     "output_type": "execute_result"
    }
   ],
   "source": [
    "let sz = 1_000_000\n",
    "let w,h = (Random.int sz,Random.int sz)\n",
    "let current_loc = (Random.int w,Random.int h)\n",
    "let bomb_loc = (Random.int w,Random.int h)\n",
    "let board = (0,w,0,h)\n",
    "let current_loc = (current_loc,board)"
   ]
  },
  {
   "cell_type": "code",
   "execution_count": 7,
   "metadata": {},
   "outputs": [
    {
     "name": "stdout",
     "output_type": "stream",
     "text": [
      "Board: 0x326685x0x809344  |  Bomb: 298160x349399  |  Loc: 291071x435030  |  Direction: UR\n"
     ]
    },
    {
     "name": "stdout",
     "output_type": "stream",
     "text": [
      "Board: 291071x326685x0x435030  |  Bomb: 298160x349399  |  Loc: 308878x217515  |  Direction: DL\n"
     ]
    },
    {
     "name": "stdout",
     "output_type": "stream",
     "text": [
      "Board: 291071x308878x217515x435030  |  Bomb: 298160x349399  |  Loc: 299974x326272  |  Direction: DL\n"
     ]
    },
    {
     "name": "stdout",
     "output_type": "stream",
     "text": [
      "Board: 291071x299974x326272x435030  |  Bomb: 298160x349399  |  Loc: 295522x380651  |  Direction: UR\n"
     ]
    },
    {
     "name": "stdout",
     "output_type": "stream",
     "text": [
      "Board: 295522x299974x326272x380651  |  Bomb: 298160x349399  |  Loc: 297748x335861  |  Direction: DR\n"
     ]
    },
    {
     "name": "stdout",
     "output_type": "stream",
     "text": [
      "Board: 297748x299974x335861x380651  |  Bomb: 298160x349399  |  Loc: 298861x358256  |  Direction: UL\n"
     ]
    },
    {
     "name": "stdout",
     "output_type": "stream",
     "text": [
      "Board: 297748x298861x335861x358256  |  Bomb: 298160x349399  |  Loc: 298304x347058  |  Direction: DL\n"
     ]
    },
    {
     "name": "stdout",
     "output_type": "stream",
     "text": [
      "Board: 297748x298304x347058x358256  |  Bomb: 298160x349399  |  Loc: 298026x352657  |  Direction: UR\n"
     ]
    },
    {
     "name": "stdout",
     "output_type": "stream",
     "text": [
      "Board: 298026x298304x347058x352657  |  Bomb: 298160x349399  |  Loc: 298165x325202  |  Direction: DL\n"
     ]
    },
    {
     "name": "stdout",
     "output_type": "stream",
     "text": [
      "Board: 298026x298165x325202x352657  |  Bomb: 298160x349399  |  Loc: 298095x338929  |  Direction: DR\n"
     ]
    },
    {
     "name": "stdout",
     "output_type": "stream",
     "text": [
      "Board: 298095x298165x338929x352657  |  Bomb: 298160x349399  |  Loc: 298130x345793  |  Direction: DR\n"
     ]
    },
    {
     "name": "stdout",
     "output_type": "stream",
     "text": [
      "Board: 298130x298165x345793x352657  |  Bomb: 298160x349399  |  Loc: 298147x349225  |  Direction: DR\n"
     ]
    },
    {
     "name": "stdout",
     "output_type": "stream",
     "text": [
      "Board: 298147x298165x349225x352657  |  Bomb: 298160x349399  |  Loc: 298156x350941  |  Direction: UR\n"
     ]
    },
    {
     "name": "stdout",
     "output_type": "stream",
     "text": [
      "Board: 298156x298165x349225x350941  |  Bomb: 298160x349399  |  Loc: 298160x324544  |  Direction: D\n"
     ]
    },
    {
     "name": "stdout",
     "output_type": "stream",
     "text": [
      "Board: 298160x298160x324544x350941  |  Bomb: 298160x349399  |  Loc: 298160x337742  |  Direction: D\n"
     ]
    },
    {
     "name": "stdout",
     "output_type": "stream",
     "text": [
      "Board: 298160x298160x337742x350941  |  Bomb: 298160x349399  |  Loc: 298160x344341  |  Direction: D\n"
     ]
    },
    {
     "name": "stdout",
     "output_type": "stream",
     "text": [
      "Board: 298160x298160x344341x350941  |  Bomb: 298160x349399  |  Loc: 298160x347641  |  Direction: D\n"
     ]
    },
    {
     "name": "stdout",
     "output_type": "stream",
     "text": [
      "Board: 298160x298160x347641x350941  |  Bomb: 298160x349399  |  Loc: 298160x349291  |  Direction: D\n"
     ]
    },
    {
     "name": "stdout",
     "output_type": "stream",
     "text": [
      "Board: 298160x298160x349291x350941  |  Bomb: 298160x349399  |  Loc: 298160x350116  |  Direction: U\n"
     ]
    },
    {
     "name": "stdout",
     "output_type": "stream",
     "text": [
      "Board: 298160x298160x349291x350116  |  Bomb: 298160x349399  |  Loc: 298160x349703  |  Direction: U\n"
     ]
    },
    {
     "name": "stdout",
     "output_type": "stream",
     "text": [
      "Board: 298160x298160x349291x349703  |  Bomb: 298160x349399  |  Loc: 298160x349497  |  Direction: U\n"
     ]
    },
    {
     "name": "stdout",
     "output_type": "stream",
     "text": [
      "Board: 298160x298160x349291x349497  |  Bomb: 298160x349399  |  Loc: 298160x349394  |  Direction: D\n"
     ]
    },
    {
     "name": "stdout",
     "output_type": "stream",
     "text": [
      "Board: 298160x298160x349394x349497  |  Bomb: 298160x349399  |  Loc: 298160x349445  |  Direction: U\n"
     ]
    },
    {
     "name": "stdout",
     "output_type": "stream",
     "text": [
      "Board: 298160x298160x349394x349445  |  Bomb: 298160x349399  |  Loc: 298160x349419  |  Direction: U\n"
     ]
    },
    {
     "name": "stdout",
     "output_type": "stream",
     "text": [
      "Board: 298160x298160x349394x349419  |  Bomb: 298160x349399  |  Loc: 298160x349406  |  Direction: U\n"
     ]
    },
    {
     "name": "stdout",
     "output_type": "stream",
     "text": [
      "Board: 298160x298160x349394x349406  |  Bomb: 298160x349399  |  Loc: 298160x349400  |  Direction: U\n"
     ]
    },
    {
     "name": "stdout",
     "output_type": "stream",
     "text": [
      "Board: 298160x298160x349394x349400  |  Bomb: 298160x349399  |  Loc: 298160x349397  |  Direction: D\n"
     ]
    },
    {
     "name": "stdout",
     "output_type": "stream",
     "text": [
      "Board: 298160x298160x349397x349400  |  Bomb: 298160x349399  |  Loc: 298160x349398  |  Direction: D\n"
     ]
    },
    {
     "data": {
      "text/plain": [
       "- : string = \"success\"\n"
      ]
     },
     "execution_count": 7,
     "metadata": {},
     "output_type": "execute_result"
    }
   ],
   "source": [
    "loop current_loc 0 print_step bomb_loc"
   ]
  },
  {
   "cell_type": "code",
   "execution_count": null,
   "metadata": {
    "vscode": {
     "languageId": "ocaml"
    }
   },
   "outputs": [],
   "source": []
  },
  {
   "cell_type": "code",
   "execution_count": null,
   "metadata": {},
   "outputs": [],
   "source": []
  }
 ],
 "metadata": {
  "celltoolbar": "Tags",
  "interpreter": {
   "hash": "2919f7ed6131f896cd9e7617f357d6c5d730d5509204ac2818bea7544a03cf81"
  },
  "kernelspec": {
   "display_name": "OCaml 4.13.1",
   "language": "OCaml",
   "name": "ocaml-jupyter-4.13.1"
  },
  "language_info": {
   "codemirror_mode": "text/x-ocaml",
   "file_extension": ".ml",
   "mimetype": "text/x-ocaml",
   "name": "OCaml",
   "nbconverter_exporter": null,
   "pygments_lexer": "OCaml",
   "version": "4.13.1"
  }
 },
 "nbformat": 4,
 "nbformat_minor": 2
}