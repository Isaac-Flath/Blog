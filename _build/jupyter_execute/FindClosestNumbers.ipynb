{
 "cells": [
  {
   "cell_type": "markdown",
   "id": "ec0909b9",
   "metadata": {},
   "source": [
    "# Find Min Difference Between Int List\n",
    "\n",
    "The idea is we have a long list of integers we want to find an efficient way to find the numbers closest to each other.\n",
    "\n",
    "This problem is from [codingame](https://www.codingame.com/ide/puzzle/horse-racing-duals)"
   ]
  },
  {
   "cell_type": "code",
   "execution_count": 1,
   "id": "cdd1cf32",
   "metadata": {
    "tags": [
     "remove-input",
     "remove-output"
    ]
   },
   "outputs": [
    {
     "name": "stderr",
     "output_type": "stream",
     "text": [
      "/Users/isaacflath/.opam/4.13.1/lib/base/base_internalhash_types: added to search path\n"
     ]
    },
    {
     "name": "stderr",
     "output_type": "stream",
     "text": [
      "/Users/isaacflath/.opam/4.13.1/lib/base/base_internalhash_types/base_internalhash_types.cma: loaded\n"
     ]
    },
    {
     "name": "stderr",
     "output_type": "stream",
     "text": [
      "/Users/isaacflath/.opam/4.13.1/lib/base/caml: added to search path\n"
     ]
    },
    {
     "name": "stderr",
     "output_type": "stream",
     "text": [
      "/Users/isaacflath/.opam/4.13.1/lib/base/caml/caml.cma: loaded\n"
     ]
    },
    {
     "name": "stderr",
     "output_type": "stream",
     "text": [
      "/Users/isaacflath/.opam/4.13.1/lib/base/shadow_stdlib: added to search path\n"
     ]
    },
    {
     "name": "stderr",
     "output_type": "stream",
     "text": [
      "/Users/isaacflath/.opam/4.13.1/lib/base/shadow_stdlib/shadow_stdlib.cma: loaded\n"
     ]
    },
    {
     "name": "stderr",
     "output_type": "stream",
     "text": [
      "/Users/isaacflath/.opam/4.13.1/lib/sexplib0: added to search path\n"
     ]
    },
    {
     "name": "stderr",
     "output_type": "stream",
     "text": [
      "/Users/isaacflath/.opam/4.13.1/lib/sexplib0/sexplib0.cma: loaded\n"
     ]
    },
    {
     "name": "stderr",
     "output_type": "stream",
     "text": [
      "/Users/isaacflath/.opam/4.13.1/lib/base: added to search path\n"
     ]
    },
    {
     "name": "stderr",
     "output_type": "stream",
     "text": [
      "/Users/isaacflath/.opam/4.13.1/lib/base/base.cma: loaded\n"
     ]
    },
    {
     "name": "stderr",
     "output_type": "stream",
     "text": [
      "/Users/isaacflath/.opam/4.13.1/lib/fieldslib: added to search path\n"
     ]
    },
    {
     "name": "stderr",
     "output_type": "stream",
     "text": [
      "/Users/isaacflath/.opam/4.13.1/lib/fieldslib/fieldslib.cma: loaded\n"
     ]
    },
    {
     "name": "stderr",
     "output_type": "stream",
     "text": [
      "/Users/isaacflath/.opam/4.13.1/lib/ppx_compare/runtime-lib: added to search path\n"
     ]
    },
    {
     "name": "stderr",
     "output_type": "stream",
     "text": [
      "/Users/isaacflath/.opam/4.13.1/lib/ppx_compare/runtime-lib/ppx_compare_lib.cma: loaded\n"
     ]
    },
    {
     "name": "stderr",
     "output_type": "stream",
     "text": [
      "/Users/isaacflath/.opam/4.13.1/lib/ppx_enumerate/runtime-lib: added to search path\n"
     ]
    },
    {
     "name": "stderr",
     "output_type": "stream",
     "text": [
      "/Users/isaacflath/.opam/4.13.1/lib/ppx_enumerate/runtime-lib/ppx_enumerate_lib.cma: loaded\n"
     ]
    },
    {
     "name": "stderr",
     "output_type": "stream",
     "text": [
      "/Users/isaacflath/.opam/4.13.1/lib/ppx_sexp_conv/runtime-lib: added to search path\n"
     ]
    },
    {
     "name": "stderr",
     "output_type": "stream",
     "text": [
      "/Users/isaacflath/.opam/4.13.1/lib/ppx_sexp_conv/runtime-lib/ppx_sexp_conv_lib.cma: loaded\n"
     ]
    },
    {
     "name": "stderr",
     "output_type": "stream",
     "text": [
      "/Users/isaacflath/.opam/4.13.1/lib/ppx_hash/runtime-lib: added to search path\n"
     ]
    },
    {
     "name": "stderr",
     "output_type": "stream",
     "text": [
      "/Users/isaacflath/.opam/4.13.1/lib/ppx_hash/runtime-lib/ppx_hash_lib.cma: loaded\n"
     ]
    },
    {
     "name": "stderr",
     "output_type": "stream",
     "text": [
      "/Users/isaacflath/.opam/4.13.1/lib/ppx_here/runtime-lib: added to search path\n"
     ]
    },
    {
     "name": "stderr",
     "output_type": "stream",
     "text": [
      "/Users/isaacflath/.opam/4.13.1/lib/ppx_here/runtime-lib/ppx_here_lib.cma: loaded\n"
     ]
    },
    {
     "name": "stderr",
     "output_type": "stream",
     "text": [
      "/Users/isaacflath/.opam/4.13.1/lib/ppx_assert/runtime-lib: added to search path\n"
     ]
    },
    {
     "name": "stderr",
     "output_type": "stream",
     "text": [
      "/Users/isaacflath/.opam/4.13.1/lib/ppx_assert/runtime-lib/ppx_assert_lib.cma: loaded\n"
     ]
    },
    {
     "name": "stderr",
     "output_type": "stream",
     "text": [
      "/Users/isaacflath/.opam/4.13.1/lib/ppx_bench/runtime-lib: added to search path\n"
     ]
    },
    {
     "name": "stderr",
     "output_type": "stream",
     "text": [
      "/Users/isaacflath/.opam/4.13.1/lib/ppx_bench/runtime-lib/ppx_bench_lib.cma: loaded\n"
     ]
    },
    {
     "name": "stderr",
     "output_type": "stream",
     "text": [
      "/Users/isaacflath/.opam/4.13.1/lib/ppx_inline_test/config: added to search path\n"
     ]
    },
    {
     "name": "stderr",
     "output_type": "stream",
     "text": [
      "/Users/isaacflath/.opam/4.13.1/lib/ppx_inline_test/config/inline_test_config.cma: loaded\n"
     ]
    },
    {
     "name": "stderr",
     "output_type": "stream",
     "text": [
      "/Users/isaacflath/.opam/4.13.1/lib/jane-street-headers: added to search path\n"
     ]
    },
    {
     "name": "stderr",
     "output_type": "stream",
     "text": [
      "/Users/isaacflath/.opam/4.13.1/lib/jane-street-headers/jane_street_headers.cma: loaded\n"
     ]
    },
    {
     "name": "stderr",
     "output_type": "stream",
     "text": [
      "/Users/isaacflath/.opam/4.13.1/lib/time_now: added to search path\n"
     ]
    },
    {
     "name": "stderr",
     "output_type": "stream",
     "text": [
      "/Users/isaacflath/.opam/4.13.1/lib/time_now/time_now.cma: loaded\n"
     ]
    },
    {
     "name": "stderr",
     "output_type": "stream",
     "text": [
      "/Users/isaacflath/.opam/4.13.1/lib/ppx_inline_test/runtime-lib: added to search path\n"
     ]
    },
    {
     "name": "stderr",
     "output_type": "stream",
     "text": [
      "/Users/isaacflath/.opam/4.13.1/lib/ppx_inline_test/runtime-lib/ppx_inline_test_lib.cma: loaded\n"
     ]
    },
    {
     "name": "stderr",
     "output_type": "stream",
     "text": [
      "/Users/isaacflath/.opam/4.13.1/lib/splittable_random: added to search path\n"
     ]
    },
    {
     "name": "stderr",
     "output_type": "stream",
     "text": [
      "/Users/isaacflath/.opam/4.13.1/lib/splittable_random/splittable_random.cma: loaded\n"
     ]
    },
    {
     "name": "stderr",
     "output_type": "stream",
     "text": [
      "/Users/isaacflath/.opam/4.13.1/lib/base_quickcheck: added to search path\n"
     ]
    },
    {
     "name": "stderr",
     "output_type": "stream",
     "text": [
      "/Users/isaacflath/.opam/4.13.1/lib/base_quickcheck/base_quickcheck.cma: loaded\n"
     ]
    },
    {
     "name": "stderr",
     "output_type": "stream",
     "text": [
      "/Users/isaacflath/.opam/4.13.1/lib/base/md5: added to search path\n"
     ]
    },
    {
     "name": "stderr",
     "output_type": "stream",
     "text": [
      "/Users/isaacflath/.opam/4.13.1/lib/base/md5/md5_lib.cma: loaded\n"
     ]
    },
    {
     "name": "stderr",
     "output_type": "stream",
     "text": [
      "/Users/isaacflath/.opam/4.13.1/lib/ocaml/bigarray.cma: loaded\n"
     ]
    },
    {
     "name": "stderr",
     "output_type": "stream",
     "text": [
      "/Users/isaacflath/.opam/4.13.1/lib/variantslib: added to search path\n"
     ]
    },
    {
     "name": "stderr",
     "output_type": "stream",
     "text": [
      "/Users/isaacflath/.opam/4.13.1/lib/variantslib/variantslib.cma: loaded\n"
     ]
    },
    {
     "name": "stderr",
     "output_type": "stream",
     "text": [
      "/Users/isaacflath/.opam/4.13.1/lib/bin_prot/shape: added to search path\n"
     ]
    },
    {
     "name": "stderr",
     "output_type": "stream",
     "text": [
      "/Users/isaacflath/.opam/4.13.1/lib/bin_prot/shape/bin_shape_lib.cma: loaded\n"
     ]
    },
    {
     "name": "stderr",
     "output_type": "stream",
     "text": [
      "/Users/isaacflath/.opam/4.13.1/lib/bin_prot: added to search path\n"
     ]
    },
    {
     "name": "stderr",
     "output_type": "stream",
     "text": [
      "/Users/isaacflath/.opam/4.13.1/lib/bin_prot/bin_prot.cma: loaded\n"
     ]
    },
    {
     "name": "stderr",
     "output_type": "stream",
     "text": [
      "/Users/isaacflath/.opam/4.13.1/lib/ppx_expect/common: added to search path\n"
     ]
    },
    {
     "name": "stderr",
     "output_type": "stream",
     "text": [
      "/Users/isaacflath/.opam/4.13.1/lib/ppx_expect/common/expect_test_common.cma: loaded\n"
     ]
    },
    {
     "name": "stderr",
     "output_type": "stream",
     "text": [
      "/Users/isaacflath/.opam/4.13.1/lib/ppx_expect/config_types: added to search path\n"
     ]
    },
    {
     "name": "stderr",
     "output_type": "stream",
     "text": [
      "/Users/isaacflath/.opam/4.13.1/lib/ppx_expect/config_types/expect_test_config_types.cma: loaded\n"
     ]
    },
    {
     "name": "stderr",
     "output_type": "stream",
     "text": [
      "/Users/isaacflath/.opam/4.13.1/lib/ppx_expect/collector: added to search path\n"
     ]
    },
    {
     "name": "stderr",
     "output_type": "stream",
     "text": [
      "/Users/isaacflath/.opam/4.13.1/lib/ppx_expect/collector/expect_test_collector.cma: loaded\n"
     ]
    },
    {
     "name": "stderr",
     "output_type": "stream",
     "text": [
      "/Users/isaacflath/.opam/4.13.1/lib/ppx_expect/config: added to search path\n"
     ]
    },
    {
     "name": "stderr",
     "output_type": "stream",
     "text": [
      "/Users/isaacflath/.opam/4.13.1/lib/ppx_expect/config/expect_test_config.cma: loaded\n"
     ]
    },
    {
     "name": "stderr",
     "output_type": "stream",
     "text": [
      "/Users/isaacflath/.opam/4.13.1/lib/stdio: added to search path\n"
     ]
    },
    {
     "name": "stderr",
     "output_type": "stream",
     "text": [
      "/Users/isaacflath/.opam/4.13.1/lib/stdio/stdio.cma: loaded\n"
     ]
    },
    {
     "name": "stderr",
     "output_type": "stream",
     "text": [
      "/Users/isaacflath/.opam/4.13.1/lib/ppx_module_timer/runtime: added to search path\n"
     ]
    },
    {
     "name": "stderr",
     "output_type": "stream",
     "text": [
      "/Users/isaacflath/.opam/4.13.1/lib/ppx_module_timer/runtime/ppx_module_timer_runtime.cma: loaded\n"
     ]
    },
    {
     "name": "stderr",
     "output_type": "stream",
     "text": [
      "/Users/isaacflath/.opam/4.13.1/lib/typerep: added to search path\n"
     ]
    },
    {
     "name": "stderr",
     "output_type": "stream",
     "text": [
      "/Users/isaacflath/.opam/4.13.1/lib/typerep/typerep_lib.cma: loaded\n"
     ]
    },
    {
     "name": "stderr",
     "output_type": "stream",
     "text": [
      "/Users/isaacflath/.opam/4.13.1/lib/base_bigstring: added to search path\n"
     ]
    },
    {
     "name": "stderr",
     "output_type": "stream",
     "text": [
      "/Users/isaacflath/.opam/4.13.1/lib/base_bigstring/base_bigstring.cma: loaded\n"
     ]
    },
    {
     "name": "stderr",
     "output_type": "stream",
     "text": [
      "/Users/isaacflath/.opam/4.13.1/lib/core_kernel/base_for_tests: added to search path\n"
     ]
    },
    {
     "name": "stderr",
     "output_type": "stream",
     "text": [
      "/Users/isaacflath/.opam/4.13.1/lib/core_kernel/base_for_tests/base_for_tests.cma: loaded\n"
     ]
    },
    {
     "name": "stderr",
     "output_type": "stream",
     "text": [
      "/Users/isaacflath/.opam/4.13.1/lib/parsexp: added to search path\n"
     ]
    },
    {
     "name": "stderr",
     "output_type": "stream",
     "text": [
      "/Users/isaacflath/.opam/4.13.1/lib/parsexp/parsexp.cma: loaded\n"
     ]
    },
    {
     "name": "stderr",
     "output_type": "stream",
     "text": [
      "/Users/isaacflath/.opam/4.13.1/lib/sexplib: added to search path\n"
     ]
    },
    {
     "name": "stderr",
     "output_type": "stream",
     "text": [
      "/Users/isaacflath/.opam/4.13.1/lib/sexplib/sexplib.cma: loaded\n"
     ]
    },
    {
     "name": "stderr",
     "output_type": "stream",
     "text": [
      "/Users/isaacflath/.opam/4.13.1/lib/core_kernel: added to search path\n"
     ]
    },
    {
     "name": "stderr",
     "output_type": "stream",
     "text": [
      "/Users/isaacflath/.opam/4.13.1/lib/core_kernel/core_kernel.cma: loaded\n"
     ]
    },
    {
     "name": "stderr",
     "output_type": "stream",
     "text": [
      "/Users/isaacflath/.opam/4.13.1/lib/core/error_checking_mutex: added to search path\n"
     ]
    },
    {
     "name": "stderr",
     "output_type": "stream",
     "text": [
      "/Users/isaacflath/.opam/4.13.1/lib/core/error_checking_mutex/error_checking_mutex.cma: loaded\n"
     ]
    },
    {
     "name": "stderr",
     "output_type": "stream",
     "text": [
      "/Users/isaacflath/.opam/4.13.1/lib/core_kernel/caml_unix: added to search path\n"
     ]
    },
    {
     "name": "stderr",
     "output_type": "stream",
     "text": [
      "/Users/isaacflath/.opam/4.13.1/lib/core_kernel/caml_unix/caml_unix.cma: loaded\n"
     ]
    },
    {
     "name": "stderr",
     "output_type": "stream",
     "text": [
      "/Users/isaacflath/.opam/4.13.1/lib/core_kernel/flags: added to search path\n"
     ]
    },
    {
     "name": "stderr",
     "output_type": "stream",
     "text": [
      "/Users/isaacflath/.opam/4.13.1/lib/core_kernel/flags/flags.cma: loaded\n"
     ]
    },
    {
     "name": "stderr",
     "output_type": "stream",
     "text": [
      "/Users/isaacflath/.opam/4.13.1/lib/core_kernel/version_util: added to search path\n"
     ]
    },
    {
     "name": "stderr",
     "output_type": "stream",
     "text": [
      "/Users/isaacflath/.opam/4.13.1/lib/core_kernel/version_util/version_util.cma: loaded\n"
     ]
    },
    {
     "name": "stderr",
     "output_type": "stream",
     "text": [
      "/Users/isaacflath/.opam/4.13.1/lib/sexplib/unix: added to search path\n"
     ]
    },
    {
     "name": "stderr",
     "output_type": "stream",
     "text": [
      "/Users/isaacflath/.opam/4.13.1/lib/sexplib/unix/sexplib_unix.cma: loaded\n"
     ]
    },
    {
     "name": "stderr",
     "output_type": "stream",
     "text": [
      "/Users/isaacflath/.opam/4.13.1/lib/spawn: added to search path\n"
     ]
    },
    {
     "name": "stderr",
     "output_type": "stream",
     "text": [
      "/Users/isaacflath/.opam/4.13.1/lib/spawn/spawn.cma: loaded\n"
     ]
    },
    {
     "name": "stderr",
     "output_type": "stream",
     "text": [
      "/Users/isaacflath/.opam/4.13.1/lib/timezone: added to search path\n"
     ]
    },
    {
     "name": "stderr",
     "output_type": "stream",
     "text": [
      "/Users/isaacflath/.opam/4.13.1/lib/timezone/timezone.cma: loaded\n"
     ]
    },
    {
     "name": "stderr",
     "output_type": "stream",
     "text": [
      "/Users/isaacflath/.opam/4.13.1/lib/core: added to search path\n"
     ]
    },
    {
     "name": "stderr",
     "output_type": "stream",
     "text": [
      "/Users/isaacflath/.opam/4.13.1/lib/core/core.cma: loaded\n"
     ]
    },
    {
     "name": "stderr",
     "output_type": "stream",
     "text": [
      "/Users/isaacflath/.opam/4.13.1/lib/core/top: added to search path\n"
     ]
    },
    {
     "name": "stderr",
     "output_type": "stream",
     "text": [
      "/Users/isaacflath/.opam/4.13.1/lib/core/top/core_top.cma: loaded\n"
     ]
    },
    {
     "name": "stdout",
     "output_type": "stream",
     "text": [
      "Findlib has been successfully loaded. Additional directives:\n"
     ]
    },
    {
     "name": "stdout",
     "output_type": "stream",
     "text": [
      "  #require \"package\";;      to load a package\n"
     ]
    },
    {
     "name": "stdout",
     "output_type": "stream",
     "text": [
      "  #list;;                   to list the available packages\n"
     ]
    },
    {
     "name": "stdout",
     "output_type": "stream",
     "text": [
      "  #camlp4o;;                to load camlp4 (standard syntax)\n"
     ]
    },
    {
     "name": "stdout",
     "output_type": "stream",
     "text": [
      "  #camlp4r;;                to load camlp4 (revised syntax)\n"
     ]
    },
    {
     "name": "stdout",
     "output_type": "stream",
     "text": [
      "  #predicates \"p,q,...\";;   to set these predicates\n"
     ]
    },
    {
     "name": "stdout",
     "output_type": "stream",
     "text": [
      "  Topfind.reset();;         to force that packages will be reloaded\n"
     ]
    },
    {
     "name": "stdout",
     "output_type": "stream",
     "text": [
      "  #thread;;                 to enable threads\n"
     ]
    },
    {
     "name": "stdout",
     "output_type": "stream",
     "text": [
      "\n"
     ]
    },
    {
     "name": "stderr",
     "output_type": "stream",
     "text": [
      "/Users/isaacflath/.opam/4.13.1/lib/bytes: added to search path\n"
     ]
    },
    {
     "name": "stderr",
     "output_type": "stream",
     "text": [
      "/Users/isaacflath/.opam/4.13.1/lib/base64: added to search path\n"
     ]
    },
    {
     "name": "stderr",
     "output_type": "stream",
     "text": [
      "/Users/isaacflath/.opam/4.13.1/lib/base64/base64.cma: loaded\n"
     ]
    },
    {
     "name": "stderr",
     "output_type": "stream",
     "text": [
      "/Users/isaacflath/.opam/4.13.1/lib/easy-format: added to search path\n"
     ]
    },
    {
     "name": "stderr",
     "output_type": "stream",
     "text": [
      "/Users/isaacflath/.opam/4.13.1/lib/easy-format/easy_format.cma: loaded\n"
     ]
    },
    {
     "name": "stderr",
     "output_type": "stream",
     "text": [
      "/Users/isaacflath/.opam/4.13.1/lib/biniou: added to search path\n"
     ]
    },
    {
     "name": "stderr",
     "output_type": "stream",
     "text": [
      "/Users/isaacflath/.opam/4.13.1/lib/biniou/biniou.cma: loaded\n"
     ]
    },
    {
     "name": "stderr",
     "output_type": "stream",
     "text": [
      "/Users/isaacflath/.opam/4.13.1/lib/yojson: added to search path\n"
     ]
    },
    {
     "name": "stderr",
     "output_type": "stream",
     "text": [
      "/Users/isaacflath/.opam/4.13.1/lib/yojson/yojson.cma: loaded\n"
     ]
    },
    {
     "name": "stderr",
     "output_type": "stream",
     "text": [
      "/Users/isaacflath/.opam/4.13.1/lib/ppx_yojson_conv_lib: added to search path\n"
     ]
    },
    {
     "name": "stderr",
     "output_type": "stream",
     "text": [
      "/Users/isaacflath/.opam/4.13.1/lib/ppx_yojson_conv_lib/ppx_yojson_conv_lib.cma: loaded\n"
     ]
    },
    {
     "name": "stderr",
     "output_type": "stream",
     "text": [
      "/Users/isaacflath/.opam/4.13.1/lib/uuidm: added to search path\n"
     ]
    },
    {
     "name": "stderr",
     "output_type": "stream",
     "text": [
      "/Users/isaacflath/.opam/4.13.1/lib/uuidm/uuidm.cma: loaded\n"
     ]
    },
    {
     "name": "stderr",
     "output_type": "stream",
     "text": [
      "/Users/isaacflath/.opam/4.13.1/lib/jupyter: added to search path\n"
     ]
    },
    {
     "name": "stderr",
     "output_type": "stream",
     "text": [
      "/Users/isaacflath/.opam/4.13.1/lib/jupyter/jupyter.cma: loaded\n"
     ]
    },
    {
     "name": "stderr",
     "output_type": "stream",
     "text": [
      "/Users/isaacflath/.opam/4.13.1/lib/result: added to search path\n"
     ]
    },
    {
     "name": "stderr",
     "output_type": "stream",
     "text": [
      "/Users/isaacflath/.opam/4.13.1/lib/result/result.cma: loaded\n"
     ]
    },
    {
     "name": "stderr",
     "output_type": "stream",
     "text": [
      "/Users/isaacflath/.opam/4.13.1/lib/ppx_deriving/runtime: added to search path\n"
     ]
    },
    {
     "name": "stderr",
     "output_type": "stream",
     "text": [
      "/Users/isaacflath/.opam/4.13.1/lib/ppx_deriving/runtime/ppx_deriving_runtime.cma: loaded\n"
     ]
    },
    {
     "name": "stderr",
     "output_type": "stream",
     "text": [
      "/Users/isaacflath/.opam/4.13.1/lib/jupyter/notebook: added to search path\n"
     ]
    },
    {
     "name": "stderr",
     "output_type": "stream",
     "text": [
      "/Users/isaacflath/.opam/4.13.1/lib/jupyter/notebook/jupyter_notebook.cma: loaded\n"
     ]
    }
   ],
   "source": [
    "#require \"jupyter.notebook\" ;;"
   ]
  },
  {
   "cell_type": "markdown",
   "id": "2ace9d60",
   "metadata": {},
   "source": [
    "#### Problem Setup\n",
    "\n",
    "First, we need a function where we can create random lists of integers to test with."
   ]
  },
  {
   "cell_type": "code",
   "execution_count": 2,
   "id": "c474975b",
   "metadata": {},
   "outputs": [
    {
     "data": {
      "text/plain": [
       "val create_list : int -> int list = <fun>\n"
      ]
     },
     "execution_count": 2,
     "metadata": {},
     "output_type": "execute_result"
    }
   ],
   "source": [
    "let rec create_list len =\n",
    "    match len with\n",
    "       |0 -> []\n",
    "       |x -> Random.full_int max_int::create_list (len-1);;"
   ]
  },
  {
   "cell_type": "markdown",
   "id": "f7166898",
   "metadata": {},
   "source": [
    "#### Solution\n",
    "\n",
    "First let's sort the input, so we know that the numbers with the smallest difference are next to each other"
   ]
  },
  {
   "cell_type": "code",
   "execution_count": 3,
   "id": "c51b9f45",
   "metadata": {},
   "outputs": [
    {
     "data": {
      "text/plain": [
       "val sorted_input : int list -> int list = <fun>\n"
      ]
     },
     "execution_count": 3,
     "metadata": {},
     "output_type": "execute_result"
    }
   ],
   "source": [
    "let sorted_input = List.sort (fun x y -> x-y)"
   ]
  },
  {
   "cell_type": "markdown",
   "id": "02062e58",
   "metadata": {},
   "source": [
    "Then we can calculate a difference function and sold this with a  fold"
   ]
  },
  {
   "cell_type": "code",
   "execution_count": 4,
   "id": "309df06f",
   "metadata": {},
   "outputs": [
    {
     "data": {
      "text/plain": [
       "val difference_func : int * int -> int -> int * int = <fun>\n"
      ]
     },
     "execution_count": 4,
     "metadata": {},
     "output_type": "execute_result"
    },
    {
     "data": {
      "text/plain": [
       "val final_calc : int list -> int * int = <fun>\n"
      ]
     },
     "execution_count": 4,
     "metadata": {},
     "output_type": "execute_result"
    }
   ],
   "source": [
    "let difference_func (p,m) x = if abs(x-p)<m then (x,abs(x-p)) else (x,m);;\n",
    "let final_calc = List.fold_left difference_func (max_int,max_int)"
   ]
  },
  {
   "cell_type": "markdown",
   "id": "e1f04eef",
   "metadata": {},
   "source": [
    "And the solution"
   ]
  },
  {
   "cell_type": "code",
   "execution_count": 5,
   "id": "8fc89a53",
   "metadata": {},
   "outputs": [
    {
     "data": {
      "text/plain": [
       "val min_diff : int = 196949359\n"
      ]
     },
     "execution_count": 5,
     "metadata": {},
     "output_type": "execute_result"
    }
   ],
   "source": [
    "let _,min_diff = final_calc (sorted_input (create_list 100000))"
   ]
  }
 ],
 "metadata": {
  "celltoolbar": "Tags",
  "kernelspec": {
   "display_name": "OCaml 4.13.1",
   "language": "OCaml",
   "name": "ocaml-jupyter-4.13.1"
  },
  "language_info": {
   "codemirror_mode": "text/x-ocaml",
   "file_extension": ".ml",
   "mimetype": "text/x-ocaml",
   "name": "OCaml",
   "nbconverter_exporter": null,
   "pygments_lexer": "OCaml",
   "version": "4.13.1"
  },
  "toc": {
   "base_numbering": 1,
   "nav_menu": {},
   "number_sections": true,
   "sideBar": true,
   "skip_h1_title": false,
   "title_cell": "Table of Contents",
   "title_sidebar": "Contents",
   "toc_cell": false,
   "toc_position": {},
   "toc_section_display": true,
   "toc_window_display": true
  }
 },
 "nbformat": 4,
 "nbformat_minor": 5
}