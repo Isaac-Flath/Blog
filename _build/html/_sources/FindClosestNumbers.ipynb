{
 "cells": [
  {
   "cell_type": "markdown",
   "id": "ec0909b9",
   "metadata": {},
   "source": [
    "# Find Min Difference Between Int List\n",
    "\n",
    "Author: Isaac Flath\n",
    "\n",
    "The idea is we have a long list of integers we want to find an efficient way to find the numbers closest to each other.\n",
    "\n",
    "This problem is from [codingame](https://www.codingame.com/ide/puzzle/horse-racing-duals)"
   ]
  },
  {
   "cell_type": "code",
   "execution_count": 2,
   "id": "cdd1cf32",
   "metadata": {
    "tags": [
     "remove-input",
     "remove-output"
    ]
   },
   "outputs": [
    {
     "name": "stderr",
     "output_type": "stream",
     "text": [
      "/Users/isaacflath/.opam/4.13.1/lib/bytes: added to search path\n",
      "/Users/isaacflath/.opam/4.13.1/lib/base64: added to search path\n",
      "/Users/isaacflath/.opam/4.13.1/lib/base64/base64.cma: loaded\n",
      "/Users/isaacflath/.opam/4.13.1/lib/easy-format: added to search path\n",
      "/Users/isaacflath/.opam/4.13.1/lib/easy-format/easy_format.cma: loaded\n",
      "/Users/isaacflath/.opam/4.13.1/lib/biniou: added to search path\n",
      "/Users/isaacflath/.opam/4.13.1/lib/biniou/biniou.cma: loaded\n",
      "/Users/isaacflath/.opam/4.13.1/lib/yojson: added to search path\n",
      "/Users/isaacflath/.opam/4.13.1/lib/yojson/yojson.cma: loaded\n",
      "/Users/isaacflath/.opam/4.13.1/lib/ppx_yojson_conv_lib: added to search path\n",
      "/Users/isaacflath/.opam/4.13.1/lib/ppx_yojson_conv_lib/ppx_yojson_conv_lib.cma: loaded\n",
      "/Users/isaacflath/.opam/4.13.1/lib/uuidm: added to search path\n",
      "/Users/isaacflath/.opam/4.13.1/lib/uuidm/uuidm.cma: loaded\n",
      "/Users/isaacflath/.opam/4.13.1/lib/jupyter: added to search path\n",
      "/Users/isaacflath/.opam/4.13.1/lib/jupyter/jupyter.cma: loaded\n",
      "/Users/isaacflath/.opam/4.13.1/lib/result: added to search path\n",
      "/Users/isaacflath/.opam/4.13.1/lib/result/result.cma: loaded\n",
      "/Users/isaacflath/.opam/4.13.1/lib/ppx_deriving/runtime: added to search path\n",
      "/Users/isaacflath/.opam/4.13.1/lib/ppx_deriving/runtime/ppx_deriving_runtime.cma: loaded\n",
      "/Users/isaacflath/.opam/4.13.1/lib/jupyter/notebook: added to search path\n",
      "/Users/isaacflath/.opam/4.13.1/lib/jupyter/notebook/jupyter_notebook.cma: loaded\n"
     ]
    }
   ],
   "source": [
    "#require \"jupyter.notebook\" ;;"
   ]
  },
  {
   "cell_type": "markdown",
   "id": "2ace9d60",
   "metadata": {},
   "source": [
    "#### Problem Setup\n",
    "\n",
    "First, we need a function where we can create random lists of integers to test with."
   ]
  },
  {
   "cell_type": "code",
   "execution_count": 3,
   "id": "c474975b",
   "metadata": {},
   "outputs": [
    {
     "data": {
      "text/plain": [
       "val create_list : int -> int list = <fun>\n"
      ]
     },
     "execution_count": 3,
     "metadata": {},
     "output_type": "execute_result"
    }
   ],
   "source": [
    "let rec create_list len =\n",
    "    match len with\n",
    "       |0 -> []\n",
    "       |x -> Random.full_int max_int::create_list (len-1);;"
   ]
  },
  {
   "cell_type": "markdown",
   "id": "f7166898",
   "metadata": {},
   "source": [
    "#### Solution\n",
    "\n",
    "First let's sort the input, so we know that the numbers with the smallest difference are next to each other"
   ]
  },
  {
   "cell_type": "code",
   "execution_count": 113,
   "id": "c51b9f45",
   "metadata": {},
   "outputs": [
    {
     "data": {
      "text/plain": [
       "val sorted_input : int list -> int list = <fun>\n"
      ]
     },
     "execution_count": 113,
     "metadata": {},
     "output_type": "execute_result"
    }
   ],
   "source": [
    "let sorted_input = List.sort (fun x y -> x-y)"
   ]
  },
  {
   "cell_type": "markdown",
   "id": "02062e58",
   "metadata": {},
   "source": [
    "Then we can calculate a difference function and sold this with a  fold"
   ]
  },
  {
   "cell_type": "code",
   "execution_count": 126,
   "id": "309df06f",
   "metadata": {},
   "outputs": [
    {
     "data": {
      "text/plain": [
       "val difference_func : int * int -> int -> int * int = <fun>\n"
      ]
     },
     "execution_count": 126,
     "metadata": {},
     "output_type": "execute_result"
    },
    {
     "data": {
      "text/plain": [
       "val final_calc : int list -> int * int = <fun>\n"
      ]
     },
     "execution_count": 126,
     "metadata": {},
     "output_type": "execute_result"
    }
   ],
   "source": [
    "let difference_func (p,m) x = if abs(x-p)<m then (x,abs(x-p)) else (x,m);;\n",
    "let final_calc = List.fold_left difference_func (max_int,max_int)"
   ]
  },
  {
   "cell_type": "markdown",
   "id": "e1f04eef",
   "metadata": {},
   "source": [
    "And the solution"
   ]
  },
  {
   "cell_type": "code",
   "execution_count": 127,
   "id": "8fc89a53",
   "metadata": {},
   "outputs": [
    {
     "data": {
      "text/plain": [
       "val min_diff : int = 295428271\n"
      ]
     },
     "execution_count": 127,
     "metadata": {},
     "output_type": "execute_result"
    }
   ],
   "source": [
    "let _,min_diff = final_calc (sorted_input (create_list 100000))"
   ]
  }
 ],
 "metadata": {
  "celltoolbar": "Tags",
  "kernelspec": {
   "display_name": "OCaml 4.13.1",
   "language": "OCaml",
   "name": "ocaml-jupyter-4.13.1"
  },
  "language_info": {
   "codemirror_mode": "text/x-ocaml",
   "file_extension": ".ml",
   "mimetype": "text/x-ocaml",
   "name": "OCaml",
   "nbconverter_exporter": null,
   "pygments_lexer": "OCaml",
   "version": "4.13.1"
  },
  "toc": {
   "base_numbering": 1,
   "nav_menu": {},
   "number_sections": true,
   "sideBar": true,
   "skip_h1_title": false,
   "title_cell": "Table of Contents",
   "title_sidebar": "Contents",
   "toc_cell": false,
   "toc_position": {},
   "toc_section_display": true,
   "toc_window_display": true
  }
 },
 "nbformat": 4,
 "nbformat_minor": 5
}
