{
 "cells": [
  {
   "cell_type": "markdown",
   "metadata": {},
   "source": [
    "# Binary Search\n",
    "\n",
    "Author: Isaac Flath"
   ]
  },
  {
   "cell_type": "markdown",
   "metadata": {},
   "source": [
    "This is a binary search problem.  Given a rectangular grid and a start location, I must find the end location.\n",
    "\n",
    "While I do not know the end location, after every step I will be given a direction (ie. UL, DR, L, etc.)\n",
    "\n",
    "This problem is from codingame"
   ]
  },
  {
   "cell_type": "code",
   "execution_count": 26,
   "metadata": {
    "tags": [
     "remove-output",
     "remove-input"
    ],
    "vscode": {
     "languageId": "ocaml"
    }
   },
   "outputs": [],
   "source": [
    "#require \"jupyter.notebook\" ;;\n",
    "(* #require \"jupyter-archimedes\" *)\n"
   ]
  },
  {
   "cell_type": "markdown",
   "metadata": {},
   "source": [
    "#### Problem Setup\n",
    "\n",
    "The first thing I need to do is calculate the direction of the target.  We can do that with a compare and match setup pretty easily. "
   ]
  },
  {
   "cell_type": "code",
   "execution_count": 3,
   "metadata": {},
   "outputs": [
    {
     "data": {
      "text/plain": [
       "exception InvalidInput of string\n"
      ]
     },
     "execution_count": 3,
     "metadata": {},
     "output_type": "execute_result"
    },
    {
     "data": {
      "text/plain": [
       "val get_width_dir : 'a -> 'a -> string = <fun>\n"
      ]
     },
     "execution_count": 3,
     "metadata": {},
     "output_type": "execute_result"
    },
    {
     "data": {
      "text/plain": [
       "val get_height_dir : 'a -> 'a -> string = <fun>\n"
      ]
     },
     "execution_count": 3,
     "metadata": {},
     "output_type": "execute_result"
    },
    {
     "data": {
      "text/plain": [
       "val get_direction : ('a * 'b) * ('c * 'd * 'e * 'f) -> 'a * 'b -> string =\n",
       "  <fun>\n"
      ]
     },
     "execution_count": 3,
     "metadata": {},
     "output_type": "execute_result"
    }
   ],
   "source": [
    "exception InvalidInput of string\n",
    "\n",
    "let get_width_dir bw cw = \n",
    "  match compare cw bw  with\n",
    "    |0 -> \"\"\n",
    "    |1 -> \"L\"\n",
    "    |(-1) -> \"R\"\n",
    "    | _ -> raise (InvalidInput \"error\")\n",
    "\n",
    "let get_height_dir bh ch = \n",
    "  match compare ch bh with\n",
    "    |0 -> \"\" \n",
    "    |1 -> \"U\" \n",
    "    |(-1) -> \"D\"\n",
    "    | _ -> raise (InvalidInput \"error\")\n",
    "\n",
    "let get_direction loc target = \n",
    "  let bw,bh = target in\n",
    "  let ((cw,ch),(_,_,_,_)) = loc in\n",
    "\n",
    "  (get_height_dir bh ch) ^ (get_width_dir bw cw)"
   ]
  },
  {
   "cell_type": "markdown",
   "metadata": {},
   "source": [
    "#### Step Function\n",
    "\n",
    "Next we need to write a function to choose our next step.\n",
    "\n",
    "For this first approach, I follow this 2 step process:\n",
    "1. Based on my location and direction of target, shrink the rectangle of possible target cells\n",
    "1. Select location in the middle of the location\n",
    "\n",
    "This ensures I get the most information possible with each step."
   ]
  },
  {
   "cell_type": "code",
   "execution_count": 5,
   "metadata": {},
   "outputs": [
    {
     "data": {
      "text/plain": [
       "val take_step1 :\n",
       "  (int * int) * (int * int * int * int) ->\n",
       "  string -> (int * int) * (int * int * int * int) = <fun>\n"
      ]
     },
     "execution_count": 5,
     "metadata": {},
     "output_type": "execute_result"
    }
   ],
   "source": [
    "let take_step1 loc direction =\n",
    "  let ((cw,ch),(w0,w1,h0,h1)) = loc in\n",
    "  match direction with \n",
    "        |\"L\" -> (((w0+cw)/2,ch),(w0,cw,ch,ch))\n",
    "        |\"R\" -> (((cw+w1)/2,ch),(cw,w1,ch,ch))\n",
    "        |\"U\" -> ((cw,(h0+ch)/2),(cw,cw,h0,ch))\n",
    "        |\"D\" -> ((cw,(ch+h1)/2),(cw,cw,ch,h1))\n",
    "        |\"UL\" -> (((w0+cw)/2,(h0+ch)/2),(w0,cw,h0,ch))\n",
    "        |\"UR\" -> (((cw+w1)/2,(w0+ch)/2),(cw,w1,h0,ch))\n",
    "        |\"DL\" -> (((w0+cw)/2,(ch+h1)/2),(w0,cw,ch,h1))\n",
    "        |\"DR\" -> (((cw+w1)/2,(ch+h1)/2),(cw,w1,ch,h1))\n",
    "        |_ -> raise (InvalidInput \"error\")"
   ]
  },
  {
   "cell_type": "markdown",
   "metadata": {},
   "source": [
    "#### The Test Loop\n",
    "\n",
    "Next we need a test loop (recursion) that wil continue to run until I find the target location.\n",
    "\n",
    "First I define a function that will print out information.  This is helpful in seeing what it's doing at each step and debugging."
   ]
  },
  {
   "cell_type": "code",
   "execution_count": 6,
   "metadata": {},
   "outputs": [
    {
     "data": {
      "text/plain": [
       "val print_step :\n",
       "  int * int -> (int * int) * (int * int * int * int) -> string -> unit =\n",
       "  <fun>\n"
      ]
     },
     "execution_count": 6,
     "metadata": {},
     "output_type": "execute_result"
    }
   ],
   "source": [
    "let print_step target loc direction =\n",
    "    let ((ow,oh),(bw1,bw2,bh1,bh2)) = loc in\n",
    "    let bw, bh = target in\n",
    "    print_endline (\"Board: \" ^ string_of_int bw1 ^ \"x\"^ string_of_int bw2 ^ \"x\"^ string_of_int bh1 ^ \"x\"^ string_of_int bh2 ^ \"  |  \" ^\n",
    "              \"Bomb: \" ^ string_of_int bw ^ \"x\" ^ string_of_int bh ^ \"  |  \" ^ \n",
    "              \"Loc: \" ^ string_of_int ow ^ \"x\" ^ string_of_int oh ^ \"  |  \" ^ \n",
    "              \"Direction: \" ^ direction);"
   ]
  },
  {
   "cell_type": "code",
   "execution_count": 11,
   "metadata": {
    "vscode": {
     "languageId": "ocaml"
    }
   },
   "outputs": [
    {
     "data": {
      "text/plain": [
       "val loop :\n",
       "  (int * int) * (int * int * int * int) ->\n",
       "  (int * int -> (int * int) * (int * int * int * int) -> string -> 'a) ->\n",
       "  int * int -> string = <fun>\n"
      ]
     },
     "execution_count": 11,
     "metadata": {},
     "output_type": "execute_result"
    }
   ],
   "source": [
    "let rec loop loc printf target =\n",
    "    let direction = get_direction loc target in\n",
    "    printf target loc direction;\n",
    "\n",
    "    let out = take_step1 loc direction in\n",
    "    let ((ow,oh),(tw1,tw2,th1,th2)) = out in\n",
    "\n",
    "\n",
    "    if (ow,oh)=(target) then \"success\" \n",
    "    else loop out printf target"
   ]
  },
  {
   "cell_type": "markdown",
   "metadata": {},
   "source": [
    "#### The Expirament\n",
    "\n",
    "We can see that even when run with a pretty large random size and locations setup, we solve the problem in relatively few steps."
   ]
  },
  {
   "cell_type": "code",
   "execution_count": 17,
   "metadata": {},
   "outputs": [
    {
     "data": {
      "text/plain": [
       "val max_sz : int = 1000000\n"
      ]
     },
     "execution_count": 17,
     "metadata": {},
     "output_type": "execute_result"
    },
    {
     "data": {
      "text/plain": [
       "val w : int = 192869\n",
       "val h : int = 233428\n"
      ]
     },
     "execution_count": 17,
     "metadata": {},
     "output_type": "execute_result"
    },
    {
     "data": {
      "text/plain": [
       "val current_loc : int * int = (71467, 101453)\n"
      ]
     },
     "execution_count": 17,
     "metadata": {},
     "output_type": "execute_result"
    },
    {
     "data": {
      "text/plain": [
       "val bomb_loc : int * int = (69195, 180906)\n"
      ]
     },
     "execution_count": 17,
     "metadata": {},
     "output_type": "execute_result"
    },
    {
     "data": {
      "text/plain": [
       "val board : int * int * int * int = (0, 192869, 0, 233428)\n"
      ]
     },
     "execution_count": 17,
     "metadata": {},
     "output_type": "execute_result"
    },
    {
     "data": {
      "text/plain": [
       "val current_loc : (int * int) * (int * int * int * int) =\n",
       "  ((71467, 101453), (0, 192869, 0, 233428))\n"
      ]
     },
     "execution_count": 17,
     "metadata": {},
     "output_type": "execute_result"
    }
   ],
   "source": [
    "let max_sz = 1_000_000\n",
    "let w,h = (Random.int max_sz,Random.int max_sz)\n",
    "let current_loc = (Random.int w,Random.int h)\n",
    "let bomb_loc = (Random.int w,Random.int h)\n",
    "let board = (0,w,0,h)\n",
    "let current_loc = (current_loc,board)"
   ]
  },
  {
   "cell_type": "code",
   "execution_count": 16,
   "metadata": {},
   "outputs": [
    {
     "name": "stdout",
     "output_type": "stream",
     "text": [
      "Board: 0x698678x0x695949  |  Bomb: 155526x598617  |  Loc: 675006x606536  |  Direction: UL\n",
      "Board: 0x675006x0x606536  |  Bomb: 155526x598617  |  Loc: 337503x303268  |  Direction: DL\n",
      "Board: 0x337503x303268x606536  |  Bomb: 155526x598617  |  Loc: 168751x454902  |  Direction: DL\n",
      "Board: 0x168751x454902x606536  |  Bomb: 155526x598617  |  Loc: 84375x530719  |  Direction: DR\n",
      "Board: 84375x168751x530719x606536  |  Bomb: 155526x598617  |  Loc: 126563x568627  |  Direction: DR\n",
      "Board: 126563x168751x568627x606536  |  Bomb: 155526x598617  |  Loc: 147657x587581  |  Direction: DR\n",
      "Board: 147657x168751x587581x606536  |  Bomb: 155526x598617  |  Loc: 158204x597058  |  Direction: DL\n",
      "Board: 147657x158204x597058x606536  |  Bomb: 155526x598617  |  Loc: 152930x601797  |  Direction: UR\n",
      "Board: 152930x158204x597058x601797  |  Bomb: 155526x598617  |  Loc: 155567x374727  |  Direction: DL\n",
      "Board: 152930x155567x374727x601797  |  Bomb: 155526x598617  |  Loc: 154248x488262  |  Direction: DR\n",
      "Board: 154248x155567x488262x601797  |  Bomb: 155526x598617  |  Loc: 154907x545029  |  Direction: DR\n",
      "Board: 154907x155567x545029x601797  |  Bomb: 155526x598617  |  Loc: 155237x573413  |  Direction: DR\n",
      "Board: 155237x155567x573413x601797  |  Bomb: 155526x598617  |  Loc: 155402x587605  |  Direction: DR\n",
      "Board: 155402x155567x587605x601797  |  Bomb: 155526x598617  |  Loc: 155484x594701  |  Direction: DR\n",
      "Board: 155484x155567x594701x601797  |  Bomb: 155526x598617  |  Loc: 155525x598249  |  Direction: DR\n",
      "Board: 155525x155567x598249x601797  |  Bomb: 155526x598617  |  Loc: 155546x600023  |  Direction: UL\n",
      "Board: 155525x155546x598249x600023  |  Bomb: 155526x598617  |  Loc: 155535x599136  |  Direction: UL\n",
      "Board: 155525x155535x598249x599136  |  Bomb: 155526x598617  |  Loc: 155530x598692  |  Direction: UL\n",
      "Board: 155525x155530x598249x598692  |  Bomb: 155526x598617  |  Loc: 155527x598470  |  Direction: DL\n",
      "Board: 155525x155527x598470x598692  |  Bomb: 155526x598617  |  Loc: 155526x598581  |  Direction: D\n",
      "Board: 155526x155526x598581x598692  |  Bomb: 155526x598617  |  Loc: 155526x598636  |  Direction: U\n",
      "Board: 155526x155526x598581x598636  |  Bomb: 155526x598617  |  Loc: 155526x598608  |  Direction: D\n",
      "Board: 155526x155526x598608x598636  |  Bomb: 155526x598617  |  Loc: 155526x598622  |  Direction: U\n",
      "Board: 155526x155526x598608x598622  |  Bomb: 155526x598617  |  Loc: 155526x598615  |  Direction: D\n",
      "Board: 155526x155526x598615x598622  |  Bomb: 155526x598617  |  Loc: 155526x598618  |  Direction: U\n",
      "Board: 155526x155526x598615x598618  |  Bomb: 155526x598617  |  Loc: 155526x598616  |  Direction: D\n"
     ]
    },
    {
     "data": {
      "text/plain": [
       "- : string = \"success\"\n"
      ]
     },
     "execution_count": 16,
     "metadata": {},
     "output_type": "execute_result"
    }
   ],
   "source": [
    "loop current_loc print_step bomb_loc"
   ]
  },
  {
   "cell_type": "code",
   "execution_count": null,
   "metadata": {
    "vscode": {
     "languageId": "ocaml"
    }
   },
   "outputs": [],
   "source": []
  },
  {
   "cell_type": "code",
   "execution_count": null,
   "metadata": {},
   "outputs": [],
   "source": []
  }
 ],
 "metadata": {
  "celltoolbar": "Tags",
  "interpreter": {
   "hash": "2919f7ed6131f896cd9e7617f357d6c5d730d5509204ac2818bea7544a03cf81"
  },
  "kernelspec": {
   "display_name": "OCaml 4.13.1",
   "language": "OCaml",
   "name": "ocaml-jupyter-4.13.1"
  },
  "language_info": {
   "codemirror_mode": "text/x-ocaml",
   "file_extension": ".ml",
   "mimetype": "text/x-ocaml",
   "name": "OCaml",
   "nbconverter_exporter": null,
   "pygments_lexer": "OCaml",
   "version": "4.13.1"
  },
  "toc": {
   "base_numbering": 1,
   "nav_menu": {},
   "number_sections": true,
   "sideBar": true,
   "skip_h1_title": false,
   "title_cell": "Table of Contents",
   "title_sidebar": "Contents",
   "toc_cell": false,
   "toc_position": {},
   "toc_section_display": true,
   "toc_window_display": true
  }
 },
 "nbformat": 4,
 "nbformat_minor": 2
}
